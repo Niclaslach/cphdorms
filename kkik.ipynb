{
 "metadata": {
  "language_info": {
   "codemirror_mode": {
    "name": "ipython",
    "version": 3
   },
   "file_extension": ".py",
   "mimetype": "text/x-python",
   "name": "python",
   "nbconvert_exporter": "python",
   "pygments_lexer": "ipython3",
   "version": "3.8.5-final"
  },
  "orig_nbformat": 2,
  "kernelspec": {
   "name": "python3",
   "display_name": "Python 3",
   "language": "python"
  }
 },
 "nbformat": 4,
 "nbformat_minor": 2,
 "cells": [
  {
   "cell_type": "code",
   "execution_count": 6,
   "metadata": {},
   "outputs": [],
   "source": [
    "import requests\n",
    "from requests import get\n",
    "from bs4 import BeautifulSoup\n",
    "import pandas as pd\n",
    "import numpy as np"
   ]
  },
  {
   "cell_type": "code",
   "execution_count": 7,
   "metadata": {},
   "outputs": [],
   "source": [
    "url = \"https://www.kollegierneskontor.dk/default.aspx?func=kkikportal.kollegiumlist&mid=40&topmenuid=34&lang=GB\"\n",
    "results = requests.get(url)"
   ]
  },
  {
   "cell_type": "code",
   "execution_count": 8,
   "metadata": {
    "tags": []
   },
   "outputs": [],
   "source": [
    "soup = BeautifulSoup(results.text, \"html.parser\")\n"
   ]
  },
  {
   "cell_type": "code",
   "execution_count": 11,
   "metadata": {},
   "outputs": [],
   "source": [
    "name = []\n",
    "address = []\n",
    "roomtype = []\n",
    "size = []\n",
    "price = []"
   ]
  },
  {
   "cell_type": "code",
   "execution_count": 12,
   "metadata": {
    "tags": [
     "outputPrepend"
    ]
   },
   "outputs": [
    {
     "output_type": "stream",
     "name": "stdout",
     "text": [
      "t', 'Kirsebærhaven', 'Kirsebærhaven', 'Kirsebærhaven', 'Kollegiet Granbo', 'Kollegiet Granbo', 'Kollegiet Granbo', 'Kollegiet Granbo', 'Kollegiet Granbo', 'Kollegiet Sofiegården (kun opsigelse til FA09)', 'Kollegiet Sofiegården (kun opsigelse til FA09)', 'Kollegiet Sofiegården (kun opsigelse til FA09)', 'Kollegiet Sofiegården (kun opsigelse til FA09)', 'Kvintus Kollegiet', 'Kvintus Kollegiet', 'Kvintus Kollegiet', 'Kvintus Kollegiet', 'Kvintus Kollegiet', 'Kvintus Kollegiet', 'Kvintus Kollegiet', 'Kvintus Kollegiet', 'Kvintus Kollegiet', 'Murergården', 'Rebæk Søpark Kollegiet', 'Rigshospitalets Kollegium', 'Robert Jacobsen Kollegiet (kun opsigelse til Newsec)', 'Robert Jacobsen Kollegiet (kun opsigelse til Newsec)', 'Robert Jacobsen Kollegiet (kun opsigelse til Newsec)', 'Robert Jacobsen Kollegiet (kun opsigelse til Newsec)', 'Robert Jacobsen Kollegiet (kun opsigelse til Newsec)', 'Ryesgade 58-58A', 'Ryesgade 58-58A', 'Ryesgade 58-58A', 'Sadolin Kollegiet', 'Sadolin Kollegiet', 'Sadolin Kollegiet', 'Sadolin Kollegiet', 'Sadolin Kollegiet', 'Solbakken', 'Solbakken', 'Stærevej', 'Stærevej', 'Stærevej', 'Stærevej', 'Stærevej', 'Stærevej', 'Stærevej', 'Stærevej', 'Stærevej', 'Stærevej', 'Stærevej', 'Stærevej', 'Stærevej', 'Stærevej', 'Stærevej', 'Stærevej', 'Stærevej', 'Sømoseparken', 'Sømoseparken', 'Sømoseparken', 'Sømoseparken', 'Øens Kollegium', 'Øens Kollegium', 'Øens Kollegium', 'Øens Kollegium', 'Øens Kollegium', 'Øens Kollegium', 'Øresundskollegiet (Kun anvisning hos KKIK)', 'Øresundskollegiet (Kun anvisning hos KKIK)', 'Øresundskollegiet (Kun anvisning hos KKIK)', 'Øresundskollegiet (Kun anvisning hos KKIK)', 'Øresundskollegiet (Kun anvisning hos KKIK)', 'Øresundskollegiet (Kun anvisning hos KKIK)', 'Øresundskollegiet (Kun anvisning hos KKIK)', 'Øresundskollegiet (Kun anvisning hos KKIK)', 'Øresundskollegiet (Kun anvisning hos KKIK)', 'Øresundskollegiet (Kun anvisning hos KKIK)', 'Øresundskollegiet (Kun anvisning hos KKIK)', 'Øresundskollegiet (Kun anvisning hos KKIK)', 'Øresundskollegiet (Kun anvisning hos KKIK)']\n['Morbærhaven 0 , 2620 Albertslund', 'Morbærhaven 0 , 2620 Albertslund', 'Morbærhaven 0 , 2620 Albertslund', 'Morbærhaven 0 , 2620 Albertslund', 'Amagerbrogade 268 , 2300 København S', 'Amagerbrogade 268 , 2300 København S', 'Amagerbrogade 268 , 2300 København S', 'Amagerbrogade 268 , 2300 København S', 'Amagerbrogade 268 , 2300 København S', 'Amagerbrogade 268 , 2300 København S', 'Amagerbrogade 268 , 2300 København S', 'Amagerbrogade 268 , 2300 København S', 'Amagerbrogade 268 , 2300 København S', 'Amagerbrogade 268 , 2300 København S', 'Dahlerupsgade 1 , 1603 København V', 'Dahlerupsgade 1 , 1603 København V', 'Dahlerupsgade 1 , 1603 København V', 'Dahlerupsgade 1 , 1603 København V', 'Dahlerupsgade 1 , 1603 København V', 'Dahlerupsgade 1 , 1603 København V', 'Dahlerupsgade 1 , 1603 København V', 'Dahlerupsgade 1 , 1603 København V', 'Dahlerupsgade 1 , 1603 København V', 'Dahlerupsgade 1 , 1603 København V', 'Vognporten 14 , 2620 Albertslund', 'Vognporten 14 , 2620 Albertslund', 'Emdrupvej 54 A, 2400 København NV', 'Emdrupvej 54 A, 2400 København NV', 'Emdrupvej 54 A, 2400 København NV', 'Emdrupvej 54 A, 2400 København NV', 'Emdrupvej 54 A, 2400 København NV', 'Emdrupvej 54 A, 2400 København NV', 'Emdrupvej 54 A, 2400 København NV', 'Emdrupvej 54 A, 2400 København NV', 'Sylows Allé 13 , 2000 Frederiksberg', 'Sylows Allé 13 , 2000 Frederiksberg', 'Sylows Allé 13 , 2000 Frederiksberg', 'Sylows Allé 13 , 2000 Frederiksberg', 'Sylows Allé 13 , 2000 Frederiksberg', 'Sylows Allé 13 , 2000 Frederiksberg', 'Sylows Allé 13 , 2000 Frederiksberg', 'Frankrigsgade 50 , 2300 København S', 'Grønjordsvej 1 , 2300 København S', 'Grønjordsvej 1 , 2300 København S', \"Preben Kaas' Vænge 5 , 2000 Frederiksberg\", \"Preben Kaas' Vænge 5 , 2000 Frederiksberg\", \"Preben Kaas' Vænge 5 , 2000 Frederiksberg\", \"Preben Kaas' Vænge 5 , 2000 Frederiksberg\", \"Preben Kaas' Vænge 5 , 2000 Frederiksberg\", 'Holmbladsgade 70 C, 2300 København S', 'Holmbladsgade 70 C, 2300 København S', 'Holmbladsgade 70 C, 2300 København S', 'Holmbladsgade 70 C, 2300 København S', 'Holmbladsgade 70 C, 2300 København S', 'Holmbladsgade 70 C, 2300 København S', 'Husumvej 106 , 2700 Brønshøj', 'Husumvej 106 , 2700 Brønshøj', 'Husumvej 106 , 2700 Brønshøj', 'Kettegård Allé 70 , 2650 Hvidovre', 'Kagsåkollegiet 2 , 2860 Søborg', 'Kagsåkollegiet 2 , 2860 Søborg', 'Kagsåkollegiet 2 , 2860 Søborg', 'Kagsåkollegiet 2 , 2860 Søborg', 'Kagsåkollegiet 2 , 2860 Søborg', 'Vigerslevvej 294 , 2500 Valby', 'Vigerslevvej 294 , 2500 Valby', 'Vigerslevvej 294 , 2500 Valby', 'Bystævneparken 19 , 2700 Brønshøj', 'Bystævneparken 19 , 2700 Brønshøj', 'Bystævneparken 19 , 2700 Brønshøj', 'Bystævneparken 19 , 2700 Brønshøj', 'Bystævneparken 19 , 2700 Brønshøj', 'Sofiegade 1 , 1418 København K', 'Sofiegade 1 , 1418 København K', 'Sofiegade 1 , 1418 København K', 'Sofiegade 1 , 1418 København K', 'Kvintus Allé 7 , 2300 København S', 'Kvintus Allé 7 , 2300 København S', 'Kvintus Allé 7 , 2300 København S', 'Kvintus Allé 7 , 2300 København S', 'Kvintus Allé 7 , 2300 København S', 'Kvintus Allé 7 , 2300 København S', 'Kvintus Allé 7 , 2300 København S', 'Kvintus Allé 7 , 2300 København S', 'Kvintus Allé 7 , 2300 København S', 'Murergade 12 , 2200 København N', 'Rebæk Søpark 5 , 2650 Hvidovre', 'Jagtvej 120 , 2200 København N', 'Robert Jacobsensvej 61 , 2300 København S', 'Robert Jacobsensvej 61 , 2300 København S', 'Robert Jacobsensvej 61 , 2300 København S', 'Robert Jacobsensvej 61 , 2300 København S', 'Robert Jacobsensvej 61 , 2300 København S', 'Ryesgade 58 A, 2100 København Ø', 'Ryesgade 58 A, 2100 København Ø', 'Ryesgade 58 A, 2100 København Ø', 'Lyneborggade 7 , 2300 København S', 'Lyneborggade 7 , 2300 København S', 'Lyneborggade 7 , 2300 København S', 'Lyneborggade 7 , 2300 København S', 'Lyneborggade 7 , 2300 København S', 'Rektorparken 12 , 2450 København SV', 'Rektorparken 12 , 2450 København SV', 'Stærevej 66 , 2400 København NV', 'Stærevej 66 , 2400 København NV', 'Stærevej 66 , 2400 København NV', 'Stærevej 66 , 2400 København NV', 'Stærevej 66 , 2400 København NV', 'Stærevej 66 , 2400 København NV', 'Stærevej 66 , 2400 København NV', 'Stærevej 66 , 2400 København NV', 'Stærevej 66 , 2400 København NV', 'Stærevej 66 , 2400 København NV', 'Stærevej 66 , 2400 København NV', 'Stærevej 66 , 2400 København NV', 'Stærevej 66 , 2400 København NV', 'Stærevej 66 , 2400 København NV', 'Stærevej 66 , 2400 København NV', 'Stærevej 66 , 2400 København NV', 'Stærevej 66 , 2400 København NV', 'Sømoseparken 78 , 2750 Ballerup', 'Sømoseparken 78 , 2750 Ballerup', 'Sømoseparken 78 , 2750 Ballerup', 'Sømoseparken 78 , 2750 Ballerup', 'Øresundsvej 94 , 2300 København S', 'Øresundsvej 94 , 2300 København S', 'Øresundsvej 94 , 2300 København S', 'Øresundsvej 94 , 2300 København S', 'Øresundsvej 94 , 2300 København S', 'Øresundsvej 94 , 2300 København S', 'Dalslandsgade 8 , 2300 København S', 'Dalslandsgade 8 , 2300 København S', 'Dalslandsgade 8 , 2300 København S', 'Dalslandsgade 8 , 2300 København S', 'Dalslandsgade 8 , 2300 København S', 'Dalslandsgade 8 , 2300 København S', 'Dalslandsgade 8 , 2300 København S', 'Dalslandsgade 8 , 2300 København S', 'Dalslandsgade 8 , 2300 København S', 'Dalslandsgade 8 , 2300 København S', 'Dalslandsgade 8 , 2300 København S', 'Dalslandsgade 8 , 2300 København S', 'Dalslandsgade 8 , 2300 København S']\n['1-room apartment with own bath / toilet, kitchen niche, exit to communal garden', '1-room apartment with own bath / toilet and kitchen niche, communal room, and communal kitchen (closed)', '1½-room apartment with own bath / toilet and kitchen niche, exit to communal garden', '2-room apartment with own bath / toilet and kitchen, exit to communal garden', '1-room apt. with own bath/toilet and kitchen.', '2-room apt. with own bath/toilet and kithcen.', '1-room apt. with own bath/toilet and kitchen.', '1-room apt. with own bath/toilet and kitchen.', '1-room apt. with own bath/toilet and kitchen.', '2-room apt. with own bath/toilet and kitchen.', '2-room apt. with own bath/toilet and kitchen.', '1-room apt. with own bath/toilet and kitchen.', '1-room apt. with own bath/toilet and kitchen.', '2-room apt. with own bath/toilet and kitchen.', '1 room apartment with own bath/toilet and kitchen niche', '1 room apartment with own bath/toilet and kitchen niche', '1 room apartment with own bath/toilet and kitchen niche', '1 room apartment with own bath/toilet and kitchen niche', '1 room apartment with own bath/toilet and kitchen niche', '1 room apartment with own bath/toilet and kitchen niche', '2 rooms apartment with own bath/toilet and kitchen niche', '2 rooms apartment with own bath/toilet and kitchen niche', '2 rooms apartment with own bath/toilet and kitchen niche', '2 rooms apartment with own bath/toilet and kitchen niche', 'Room with own bath/toilet and common kitchen', '2-rooms apartment with own bath/toilet and kitchen niche', '1-room apartment with own bath/toilet, kitchen niche and access to common kitchen.', '1-room apartment with own bath/toilet, kitchen niche and access to common kitchen.', '1-room apartment suitable for the physically disabled, with own bath/toilet, kitchen niche and access to common kitchen.', 'Big 1-room apartment with own bath/toilet, kitchen niche and access to common kitchen.', 'Big 1-room apartment with own bath/toilet, kitchen niche and access to common kitchen.', '1-room, 1-person apartment on third floor with own bath/toilet, kitchen niche and access to common kitchen.', '1-room apartment on third floor with own bath/toilet, kitchen niche and access to common kitchen.', '2-room apartment with own bath/toilet, kitchen niche and access to common kitchen.', '1-room apartment with own bath/toilet and kitchen niche', '1-room apartment with own bath/toilet and kitchen niche', '1-room apartment with own bath/toilet and trinette niche', '2-room apt. with own bath, toilet and kitchen', '2-rooms apartment with own bath/toilet and kitchen niche', '1 room apartment with own bath/toilet and kitchen niche', '2-rooms apartment with own bath/toilet and kitchen niche', 'Room with own bath/toilet and common kitchen', 'Room with own bath/toilet and common kitchen', 'Doubleroom with own bath/toilet and common kitchen', '1-room apartment with own bath/toilet and kitchen niche.', '1-room apartment with own bath, toilet and kitchen-niche', '1-room apartment with own bath, toilet and kitchen niche.', '1-room furnished apartment with own bath/toilet  and kitchen niche', '1 room apartment with own bath/toilet and kitchen niche', '1-room with bath, toilet and kithen-niche', '2-rooms, with bath, toilet and kitchen-niche', '1-room apartment with own bath, toilet and kitchen niche.', '1-room apartment with own bath, toilet and kitchen niche.', '1-room apartment with own bath, toilet and kitchen niche.', 'Apartment with own bath, toilet and kitchen niche. Type-6', 'Room with fridge/freezer and cupboard in the room, shared kitchen and shared bathroom.', 'Room with fridge/freezer and cupboard in the room, shared kitchen and shared bathroom', 'Room with fridge/freezer and cupboard in the room, shared kitchen and shared bathroom', 'Room with own bath/toilet and common kitchen', '1-room apartment with own bath/toilet and kitchenniche', 'Room with own bath and toilet, shared kitchen', '2-room apt. with own bath, toilet and kitchen', '3-room apt. with own bath, toilet and kitchen', '3-room apt. in small townhouse with own bath, toilet and kitchen', '1-room apartment with own bath/toilet and kitchen niche', '1 room apartment with own bath/toilet and kitchen niche', '1 room apartment with own bath/toilet and kitchen niche', '1-room apartment with own bath/toilet and kitchen niche.', '1-room apartment with own bath, toilet and kitchen-niche', '1-room apartment with own bath, toilet and kitchen niche.', '2-room apartment with own bath, toilet and kitchen niche.', '2-room apartment with own bath, toilet and kitchen niche.', '1-room with bath, toilet and kithen-niche', '2-rooms, with bath, toilet and kitchen-niche', 'Room - sharing bath/toilet and kitchen', '3.rooms apartment with own bath/toilet and kitchen', '1-room apartment with own bath/toilet and kitchen niche.', '1-room apartment with own bath, toilet and kitchen-niche', '1-room apartment with own bath/toilet and kitchen niche', '1-room apartment with own bath, toilet and kitchen niche.', '2-room apartment with own bath, toilet and kitchen niche.', '2-rooms apartment with own bath/toilet and kitchen niche', '2-rooms apartment with own bath/toilet and kitchen', '2 rooms apartment with own bath/toilet and kitchen', '2 rooms apartment with own bath/toilet and kitchen', '2-room studentapt. with kitchen niche', 'Room with own bath/toilet and common kitchen', '1 room with own bath/toilet and common kitchen', '1-room apartment with own bath/toilet and kitchen niche', '1 room apartment with own bath/toilet and kitchen niche', '1 room apartment with own bath, toilet and kitchen niche', '1 room apartment with own bath/toilet and kitchen niche', '1 room apartment with own bath/toilet and kitchen niche', 'Room with shared kitchen and shared bath/toilet.', '1-room apartment with own bath, toilet and kitchen niche.', '1 room with own bath/toilet and common kitchen', '1-room apartment with own bath/toilet and kitchenniche', '1-room apartment with own bath/toilet and kitchenniche', '1-room apartment with own bath/toilet and kitchenniche', '1-room apartment with own bath/toilet and kitchenniche', '1-room apartment suitable for the physically disabled, with own bath/toilet, kitchen niche and access to common kitchen.', '2-room apt. with own bath, toilet and kitchen', '3-room apartment with own bath/toilet and kitchen', '1-room apartment with own bath, toilet and kitchen.', '1-room apartment with own bath, toilet and kitchen', '1-room apartment with own bath, toilet and kitchen', '1-room apartment with own bath, toilet and kitchen', '2-værelses lejlighed med eget bad, toilet og køkken', '1-room apartment with own bath, toilet and kitchen', '2-room apartment with own bath, toilet and køkken', '2-room apartment with own bath, toilet and kitchen', '1-room apartment with own bath, toilet and kitchen', '1-room apartment with own bath, room and kitchen', '1-room apartment with own bath, toilet and kitchen', '1-room apartment with own bath, toilet and kitchen', '1-room apartment with own bath, toilet and kitchen', '1-room apartment with own bath, toilet and kitchen', '2-room apartment with own bath, toilet and kitchen', '1-room apartment with own bath, toilet and kitchen', '2-room apartment with own bath, toilet and kitchen', '1 room apartment with own bath/toilet and kitchen niche', '1 room apartment with own bath/toilet and kitchen niche', '1 room apartment with own bath/toilet and kitchen niche', '1 room apartment with own bath/toilet and kitchen niche', '1-room apartment with own bath/toilet and kitchen niche', '1-room apartment with own bath/toilet and kitchen niche', '1-room apartment with own bath/toilet and trinette niche', '1-room apartment with own bath/toilet and kitchen niche', '1 room apartment with own bath/toilet and kitchen niche', '1 room apartment with own bath/toilet and kitchen niche', '2-rooms apartment with own bath/toilet and kitchen niche', '2-rooms apartment with own bath/toilet and kitchen', '2 rooms apartment with own bath/toilet and kitchen', '2 rooms apartment with own bath/toilet and kitchen', '2 rooms apartment with own bath/toilet and kitchen', '2-rooms apartment with own bath/toilet and kitchen', 'Big 2-rooms apartment with own bath/toilet and kitchen', '3 rooms apartment with own bath/toilet and kitchen', 'Room with own bath/toilet and common kitchen', '1-room apartment with own bath, toilet and kitchen-niche', '1-room apartment with own bath, toilet and kitchen niche.', '2 rooms apartment  with own bath/toilet and common kitchen', '2-room apartment with own bath, toilet and kitchen niche.']\n['25,2 m2', '25,2 m2', '41,5 m2', '49,8 m2', '39,5 m2', '46,5 m2', '42,8 m2', '38,7 m2', '43,2 m2', '45,8 m2', '45,1 m2', '42,7 m2', '45,9 m2', '45 m2', '39-42 m2', '43-45 m2', '45-47 m2', '47-49 m2', '49-50 m2', '45,8 m2', '45-47 m2', '47-49 m2', '49-49,9 m2', '50 m2', '13 m2', '35 m2', '39 (27) m2', '41 (29) m2', '48 (35) m2', '48 (35) m2', '49 (36) m2', '42 (29) m2', '42 (30) m2', '48 (36) m2', '34 m2', '36 m2', '39 m2', '45 m2', '48 m2', '40 m2', '46 m2', '14 (20) m2', '18 m2', '30 m2', '35 (25) m2', '36 (26) m2', '37 (27) m2', '35 (25) m2', '44 (34) m2', '41-43,3 m2', '44,6-50 m2', '31-34,5 m2', '33-39,1 m2', '43,3-50 m2', '50 m2', '11,4 m2', '11,4 m2', '11,4 m2', '13 (18) m2', '19 m2', '17 m2', '52 m2', '60 m2', '62 m2', '28 m2', '27 m2', '34 m2', '36 m2', '48 m2', '50 m2', '73 m2', '74 m2', '25 m2', '38 m2', '25 m2', '54-65 m2', '33 m2', '33 m2', '46 m2', '34 m2', '44 m2', '42 m2', '53 m2', '44 m2', '47 m2', '42 m2', '13 (20) m2', '16 (20) m2', '41-43(24/25) m2', '44 (28) m2', '43/45 (27/29) m2', '44 (26) m2', '49 (32) m2', '13,3 m2', '22,8 m2', '21 m2', '46(23,4) m2', '47(23,5) m2', '47(24,3) m2', '48(24,4) m2', '48(24,6) m2', '46 (63) m2', '61 (84) m2', '40 m2', '45 m2', '40,3 m2', '49,2 m2', '49,2 m2', '49,2 m2', '48,9 m2', '48,3 m2', '47,6 m2', '40,5 m2', '39,8 m2', '44,9 m2', '50 m2', '49,3 m2', '49 m2', '49,4 m2', '48,7 m2', '32,1 m2', '33-34,2 m2', '35,6-39 m2', '49,9-50 m2', '44,9(25,8) m2', '48,9(29,8) m2', '45,1(26) m2', '46,6(27,5) m2', '46,3(27,2) m2', '47,6(28,5) m2', '45(35) m2', '54(32,5) m2', '55(33,5) m2', '58(36) m2', '60(38,5) m2', '64(42) m2', '65,5(43) m2', '66(44) m2', '28,5(18,5) m2', '28,5(18,5) m2', '32(20,5) m2', '54(32,5) m2', '47(36) m2']\n['kr. 2,957.00', 'kr. 2,957.00', 'kr. 4,783.00', 'kr. 5,754.00', 'kr. 5,342.19', 'kr. 5,943.95', 'kr. 5,629.17', 'kr. 5,148.29', 'kr. 5,608.89', 'kr. 5,946.30', 'kr. 5,977.88', 'kr. 5,557.67', 'kr. 5,987.70', 'kr. 6,036.45', 'kr. 4,612.00', 'kr. 4,985.00', 'kr. 5,239.00', 'kr. 5,462.00', 'kr. 5,586.00', 'kr. 5,119.00', 'kr. 5,228.00', 'kr. 5,328.00', 'kr. 5,575.00', 'kr. 5,586.00', 'kr. 2,833.00', 'kr. 5,984.00', 'kr. 4,453.00', 'kr. 4,703.00', 'kr. 5,440.00', 'kr. 5,428.00', 'kr. 5,512.00', 'kr. 4,758.00', 'kr. 4,799.00', 'kr. 5,512.00', 'kr. 4,125.99', 'kr. 4,323.22', 'kr. 4,619.66', 'kr. 5,327.51', 'kr. 5,653.93', 'kr. 4,775.71', 'kr. 5,434.69', 'kr. 3,043.00', 'kr. 2,050.00', 'kr. 3,240.00', 'kr. 4,139.00', 'kr. 4,139.00', 'kr. 4,139.00', 'kr. 4,339.00', 'kr. 4,966.00', 'kr. 5,641.51', 'kr. 6,335.18', 'kr. 4,730.88', 'kr. 5,783.49', 'kr. 6,335.18', 'kr. 6,253.45', 'kr. 3,475.00', 'kr. 3,475.00', 'kr. 3,475.00', 'kr. 2,972.00', 'kr. 3,036.00', 'kr. 2,679.00', 'kr. 4,726.00', 'kr. 5,819.00', 'kr. 6,177.00', 'kr. 3,291.00', 'kr. 2,808.00', 'kr. 3,490.00', 'kr. 3,120.03', 'kr. 4,095.03', 'kr. 4,257.53', 'kr. 6,126.03', 'kr. 6,207.53', 'kr. 2,882.00', 'kr. 4,695.00', 'kr. 2,719.00', 'kr. 6,461.00', 'kr. 3,459.00', 'kr. 3,462.00', 'kr. 4,747.00', 'kr. 3,761.00', 'kr. 4,867.00', 'kr. 4,385.00', 'kr. 5,448.00', 'kr. 5,146.00', 'kr. 5,186.00', 'kr. 2,633.00', 'kr. 2,490.00', 'kr. 3,478.00', 'kr. 4,784.58', 'kr. 4,991.17', 'kr. 5,094.58', 'kr. 4,991.17', 'kr. 5,507.75', 'kr. 3,149.00', 'kr. 4,108.00', 'kr. 3,399.00', 'kr. 5,237.00', 'kr. 5,238.00', 'kr. 5,445.00', 'kr. 5,552.00', 'kr. 5,344.00', 'kr. 6,299.00', 'kr. 8,408.00', 'kr. 5,203.64', 'kr. 5,720.59', 'kr. 5,275.13', 'kr. 6,232.32', 'kr. 6,151.69', 'kr. 6,109.59', 'kr. 6,142.77', 'kr. 6,077.58', 'kr. 5,986.20', 'kr. 5,409.58', 'kr. 5,275.13', 'kr. 5,710.54', 'kr. 6,232.32', 'kr. 6,161.96', 'kr. 6,132.21', 'kr. 6,172.54', 'kr. 6,101.06', 'kr. 4,194.99', 'kr. 4,294.53', 'kr. 4,887.54', 'kr. 6,009.06', 'kr. 5,334.00', 'kr. 5,740.00', 'kr. 5,354.00', 'kr. 5,506.00', 'kr. 5,480.00', 'kr. 5,608.00', 'kr. 4,283.00', 'kr. 4,958.00', 'kr. 5,046.00', 'kr. 5,302.00', 'kr. 5,488.00', 'kr. 5,825.00', 'kr. 5,911.00', 'kr. 5,883.00', 'kr. 2,463.00', 'kr. 2,743.00', 'kr. 3,047.00', 'kr. 3,555.00', 'kr. 4,231.00']\n"
     ]
    }
   ],
   "source": [
    "kollegium = soup.find_all('div', class_='kollegium row')\n",
    "\n",
    "for container in kollegium:\n",
    "\n",
    "#for container in [kollegium[0]]:\n",
    "\n",
    "    body = container.find('div', class_=\"body col-xs-12\")\n",
    "    rows = body.find_all(\"div\", class_= \"row\")\n",
    "    rows.pop(0)\n",
    "    rows.pop(0)\n",
    "    rows.pop(0)\n",
    "\n",
    "    \n",
    "    for room in rows:\n",
    "        \n",
    "        dorm_name = container.h3.a.text\n",
    "        name.append(dorm_name)\n",
    "\n",
    "        dorm_address = container.div.find('div', class_=\"address\").text.strip().replace(\"\\r\\n               \", \"\").replace(\"\\xa0\", \"\")\n",
    "        address.append(dorm_address)\n",
    "        \n",
    "        room_details = room.find_all(\"div\")\n",
    "\n",
    "        roomtype.append(room_details[0].get_text().strip())\n",
    "        size.append(room_details[1].get_text().strip())\n",
    "        price.append(room_details[3].get_text().strip())\n",
    "\n",
    "\n",
    "    print(name)\n",
    "    print(address)\n",
    "    print(roomtype)\n",
    "    print(size)\n",
    "    print(price)\n",
    "    \n",
    "    \n",
    "   \n",
    "        \n",
    "        \n",
    "        \n",
    "\n",
    "\n",
    "    \n",
    "\n",
    "\n",
    "\n",
    "  \n",
    "    \n",
    "\n"
   ]
  },
  {
   "cell_type": "code",
   "execution_count": null,
   "metadata": {},
   "outputs": [],
   "source": []
  }
 ]
}