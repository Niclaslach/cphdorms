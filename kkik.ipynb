{
 "metadata": {
  "language_info": {
   "codemirror_mode": {
    "name": "ipython",
    "version": 3
   },
   "file_extension": ".py",
   "mimetype": "text/x-python",
   "name": "python",
   "nbconvert_exporter": "python",
   "pygments_lexer": "ipython3",
   "version": "3.8.5-final"
  },
  "orig_nbformat": 2,
  "kernelspec": {
   "name": "python3",
   "display_name": "Python 3",
   "language": "python"
  }
 },
 "nbformat": 4,
 "nbformat_minor": 2,
 "cells": [
  {
   "cell_type": "code",
   "execution_count": 10,
   "metadata": {},
   "outputs": [],
   "source": [
    "import requests\n",
    "from requests import get\n",
    "from bs4 import BeautifulSoup\n",
    "import pandas as pd\n",
    "import numpy as np"
   ]
  },
  {
   "cell_type": "code",
   "execution_count": 18,
   "metadata": {},
   "outputs": [],
   "source": [
    "url = \"https://www.kollegierneskontor.dk/default.aspx?func=kkikportal.kollegiumlist&mid=40&topmenuid=34&lang=GB\"\n",
    "results = requests.get(url)"
   ]
  },
  {
   "cell_type": "code",
   "execution_count": 20,
   "metadata": {
    "tags": []
   },
   "outputs": [],
   "source": [
    "soup = BeautifulSoup(results.text, \"html.parser\")\n"
   ]
  },
  {
   "cell_type": "code",
   "execution_count": 125,
   "metadata": {},
   "outputs": [],
   "source": [
    "name = []\n",
    "address = []\n",
    "roomtype = []\n",
    "size = []\n",
    "price = []"
   ]
  },
  {
   "cell_type": "code",
   "execution_count": 126,
   "metadata": {
    "tags": []
   },
   "outputs": [
    {
     "output_type": "stream",
     "name": "stdout",
     "text": [
      "['Albertslund Ungdomsboliger']\n['Morbærhaven 0 , 2620 Albertslund']\n['1-room apartment with own bath / toilet, kitchen niche, exit to communal garden']\n['25,2 m2']\n['kr. 2,957.00']\n\n1-room apartment with own bath / toilet, kitchen niche, exit to communal garden\n\n\n        25,2 m2\n\n\n        646\n      \n\n        kr. 2,957.00\n      \n\n\n\n"
     ]
    }
   ],
   "source": [
    "kollegium = soup.find_all('div', class_='kollegium row')\n",
    "#for container in kollegium:\n",
    "\n",
    "for container in [kollegium[0]]:\n",
    "\n",
    "    dorm_name = container.h3.a.text\n",
    "    name.append(dorm_name)\n",
    "\n",
    "    dorm_address = container.div.find('div', class_=\"address\").text.strip().replace(\"\\r\\n               \", \"\").replace(\"\\xa0\", \"\")\n",
    "    address.append(dorm_address)\n",
    "    \n",
    "\n",
    "    body = container.find('div', class_=\"body col-xs-12\")\n",
    "    rows = body.find_all(\"div\", class_= \"row\")\n",
    "    rows.pop(0)\n",
    "    rows.pop(0)\n",
    "    rows.pop(0)\n",
    "\n",
    "    room = rows[0]\n",
    "    room_details = room.find_all(\"div\")\n",
    "    \n",
    "\n",
    "    roomtype.append(room_details[0].get_text().strip())\n",
    "    size.append(room_details[1].get_text().strip())\n",
    "    price.append(room_details[3].get_text().strip())\n",
    "\n",
    "\n",
    "    print(name)\n",
    "    print(address)\n",
    "    print(roomtype)\n",
    "    print(size)\n",
    "    print(price)\n",
    "    \n",
    "    \n",
    "    for room_detail in room_details:\n",
    "        \n",
    "        print(room_detail.get_text())\n",
    "        \n",
    "\n",
    "\n",
    "    \n",
    "\n",
    "\n",
    "\n",
    "  \n",
    "    \n",
    "\n"
   ]
  },
  {
   "cell_type": "code",
   "execution_count": null,
   "metadata": {},
   "outputs": [],
   "source": []
  }
 ]
}