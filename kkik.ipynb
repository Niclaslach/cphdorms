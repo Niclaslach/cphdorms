{
 "metadata": {
  "language_info": {
   "codemirror_mode": {
    "name": "ipython",
    "version": 3
   },
   "file_extension": ".py",
   "mimetype": "text/x-python",
   "name": "python",
   "nbconvert_exporter": "python",
   "pygments_lexer": "ipython3",
   "version": "3.8.5"
  },
  "orig_nbformat": 2,
  "kernelspec": {
   "name": "python3",
   "display_name": "Python 3",
   "language": "python"
  }
 },
 "nbformat": 4,
 "nbformat_minor": 2,
 "cells": [
  {
   "cell_type": "code",
   "execution_count": 25,
   "metadata": {},
   "outputs": [
    {
     "output_type": "error",
     "ename": "ModuleNotFoundError",
     "evalue": "No module named 'geopy'",
     "traceback": [
      "\u001b[1;31m---------------------------------------------------------------------------\u001b[0m",
      "\u001b[1;31mModuleNotFoundError\u001b[0m                       Traceback (most recent call last)",
      "\u001b[1;32m<ipython-input-25-6f582587389a>\u001b[0m in \u001b[0;36m<module>\u001b[1;34m\u001b[0m\n\u001b[0;32m      4\u001b[0m \u001b[1;32mimport\u001b[0m \u001b[0mpandas\u001b[0m \u001b[1;32mas\u001b[0m \u001b[0mpd\u001b[0m\u001b[1;33m\u001b[0m\u001b[1;33m\u001b[0m\u001b[0m\n\u001b[0;32m      5\u001b[0m \u001b[1;32mimport\u001b[0m \u001b[0mnumpy\u001b[0m \u001b[1;32mas\u001b[0m \u001b[0mnp\u001b[0m\u001b[1;33m\u001b[0m\u001b[1;33m\u001b[0m\u001b[0m\n\u001b[1;32m----> 6\u001b[1;33m \u001b[1;32mimport\u001b[0m \u001b[0mgeopy\u001b[0m\u001b[1;33m\u001b[0m\u001b[1;33m\u001b[0m\u001b[0m\n\u001b[0m",
      "\u001b[1;31mModuleNotFoundError\u001b[0m: No module named 'geopy'"
     ]
    }
   ],
   "source": [
    "import requests\n",
    "from requests import get\n",
    "from bs4 import BeautifulSoup\n",
    "import pandas as pd\n",
    "import numpy as np\n"
   ]
  },
  {
   "cell_type": "code",
   "execution_count": 6,
   "metadata": {},
   "outputs": [],
   "source": [
    "url = \"https://www.kollegierneskontor.dk/default.aspx?func=kkikportal.kollegiumlist&mid=40&topmenuid=34&lang=GB\"\n",
    "results = requests.get(url)"
   ]
  },
  {
   "cell_type": "code",
   "execution_count": 7,
   "metadata": {
    "tags": []
   },
   "outputs": [],
   "source": [
    "soup = BeautifulSoup(results.text, \"html.parser\")\n"
   ]
  },
  {
   "cell_type": "code",
   "execution_count": 20,
   "metadata": {
    "tags": []
   },
   "outputs": [],
   "source": [
    "\n",
    "kkik = []\n",
    "\n",
    "kollegium = soup.find_all('div', class_='kollegium row')\n",
    "\n",
    "\n",
    "\n",
    "for container in kollegium:\n",
    "\n",
    "    dorm_name = container.h3.a.text\n",
    "    \n",
    "    dorm_address = container.div.find('div', class_=\"address\").text.strip().replace(\"\\r\\n               \", \"\").replace(\"\\xa0\", \"\")\n",
    "\n",
    "\n",
    "    body = container.find('div', class_=\"body col-xs-12\")\n",
    "    rows = body.find_all(\"div\", class_= \"row\")\n",
    "    rows.pop(0)\n",
    "    rows.pop(0)\n",
    "    rows.pop(0)\n",
    "\n",
    "    rooms_export = []\n",
    "\n",
    "    for room in rows:\n",
    "        room_details = room.find_all(\"div\")\n",
    "\n",
    "        roomtype = room_details[0].get_text().strip()\n",
    "        size = room_details[1].get_text().strip()\n",
    "        price = room_details[3].get_text().strip()\n",
    "\n",
    "        rooms_export.append({\n",
    "            \"roomType\":roomtype,\n",
    "            \"size\":size,\n",
    "            \"price\":price\n",
    "        })\n",
    "\n",
    "    kkik.append({\n",
    "        \"name\":dorm_name,\n",
    "        \"address\":dorm_address,\n",
    "        \"rooms\":rooms_export\n",
    "    })\n",
    "    \n",
    "\n"
   ]
  },
  {
   "cell_type": "code",
   "execution_count": 19,
   "metadata": {
    "tags": []
   },
   "outputs": [],
   "source": [
    "import json\n",
    "\n",
    "with open('json_kkik.json', 'w') as f:\n",
    "    json.dump(kkik, f)\n"
   ]
  },
  {
   "cell_type": "code",
   "execution_count": 29,
   "metadata": {},
   "outputs": [
    {
     "output_type": "stream",
     "name": "stdout",
     "text": [
      "Requirement already satisfied: geopy in c:\\users\\mcshk\\anaconda3\\lib\\site-packages (2.1.0)\n",
      "Requirement already satisfied: geographiclib<2,>=1.49 in c:\\users\\mcshk\\anaconda3\\lib\\site-packages (from geopy) (1.50)\n"
     ]
    }
   ],
   "source": [
    "#Longitude and latitude geopy installation\n",
    "\n",
    "!pip install geopy\n",
    "import geopy \n",
    "\n",
    "from geopy.geocoders import Nominatim\n",
    "import time\n",
    "from pprint import pprint\n",
    "\n",
    "app = Nominatim(user_agent=\"tutorial\")\n"
   ]
  },
  {
   "cell_type": "code",
   "execution_count": null,
   "metadata": {},
   "outputs": [],
   "source": []
  }
 ]
}