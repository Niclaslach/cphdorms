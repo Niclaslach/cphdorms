{
 "metadata": {
  "language_info": {
   "codemirror_mode": {
    "name": "ipython",
    "version": 3
   },
   "file_extension": ".py",
   "mimetype": "text/x-python",
   "name": "python",
   "nbconvert_exporter": "python",
   "pygments_lexer": "ipython3",
   "version": "3.8.2-final"
  },
  "orig_nbformat": 2,
  "kernelspec": {
   "name": "python3",
   "display_name": "Python 3.8.2 64-bit",
   "metadata": {
    "interpreter": {
     "hash": "077fe6fd6570d11d355a74f5083572f354523aaff3dcd4768a7c3f22f558bbad"
    }
   }
  }
 },
 "nbformat": 4,
 "nbformat_minor": 2,
 "cells": [
  {
   "cell_type": "code",
   "execution_count": 78,
   "metadata": {},
   "outputs": [],
   "source": [
    "import requests\n",
    "from requests import get\n",
    "from bs4 import BeautifulSoup\n",
    "import pandas as pd\n",
    "import numpy as np\n"
   ]
  },
  {
   "cell_type": "code",
   "execution_count": 79,
   "metadata": {},
   "outputs": [
    {
     "output_type": "stream",
     "name": "stdout",
     "text": [
      "Requirement already satisfied: geopy in /Users/niclas/Documents/Python/Maps/venvMaps/lib/python3.8/site-packages (2.1.0)\n",
      "Requirement already satisfied: geographiclib<2,>=1.49 in /Users/niclas/Documents/Python/Maps/venvMaps/lib/python3.8/site-packages (from geopy) (1.50)\n"
     ]
    }
   ],
   "source": [
    "#geopy installation\n",
    "\n",
    "!pip install geopy\n",
    "import geopy \n",
    "\n",
    "from geopy.geocoders import GoogleV3\n",
    "from geopy.geocoders import Nominatim\n",
    "import time\n",
    "from pprint import pprint\n",
    "geolocatorGoogle = GoogleV3(api_key=\" \")\n",
    "geolocatorNom = Nominatim(user_agent=\"cphDorms\")"
   ]
  },
  {
   "cell_type": "code",
   "execution_count": 80,
   "metadata": {},
   "outputs": [
    {
     "output_type": "stream",
     "name": "stdout",
     "text": [
      "Requirement already satisfied: shortuuid in /Users/niclas/Documents/Python/Maps/venvMaps/lib/python3.8/site-packages (1.0.1)\n"
     ]
    }
   ],
   "source": [
    "#Using hashlib to shorten dorm names and make them identifiable (Some Dorm Names Suck!)\n",
    "import base64\n",
    "from hashlib import blake2b\n",
    "hasher = blake2b(digest_size=4)\n",
    "\n",
    "def hash(input):\n",
    "    hasher.update(input.encode('UTF-8'))\n",
    "    return str(base64.urlsafe_b64encode(hasher.digest()).decode('UTF-8')).rstrip('=')"
   ]
  },
  {
   "cell_type": "code",
   "execution_count": 81,
   "metadata": {},
   "outputs": [],
   "source": [
    "url = \"https://www.kollegierneskontor.dk/default.aspx?func=kkikportal.kollegiumlist&mid=40&topmenuid=34&lang=GB\"\n",
    "results = requests.get(url)"
   ]
  },
  {
   "cell_type": "code",
   "execution_count": 82,
   "metadata": {
    "tags": []
   },
   "outputs": [],
   "source": [
    "soup = BeautifulSoup(results.text, \"html.parser\")\n"
   ]
  },
  {
   "cell_type": "code",
   "execution_count": 83,
   "metadata": {},
   "outputs": [
    {
     "output_type": "stream",
     "name": "stdout",
     "text": [
      "{'latitude': '55.667422', 'longitude': '12.60431'}\n"
     ]
    }
   ],
   "source": [
    "#Longitude and latitude\n",
    "\n",
    "def coordinatesGoogle(dorm_address):\n",
    "    def get_location_by_address(address):\n",
    "        #Short Wait\n",
    "        try:\n",
    "             location = geolocatorGoogle.geocode(address)\n",
    "             return {\"latitude\":location.latitude, \"longitude\":location.longitude}\n",
    "        except:\n",
    "            print(\"Couldn'd find coordinates of \" + address)\n",
    "            return {\"latitude\":\"NaN\", \"longitude\":\"NaN\"}\n",
    "    location = get_location_by_address(dorm_address)\n",
    "    #latitude = location[\"latitude\"]\n",
    "    #longitude = location[\"longitude\"]\n",
    "    return location\n",
    "\n",
    "#print(f\"{latitude}, {longitude}\")\n",
    "# print all returned data\n",
    "#pprint(location)\n",
    "\n",
    "def coordinatesNomantim(dorm_address):\n",
    "    def get_location_by_address(address):\n",
    "        #Short Wait\n",
    "        try:\n",
    "             location = geolocatorNom.geocode(address).raw\n",
    "             return {\"latitude\":location['lat'], \"longitude\":location['lon']}\n",
    "        except:\n",
    "            print(\"Couldn'd find coordinates of \" + address)\n",
    "            return {\"latitude\":\"NaN\", \"longitude\":\"NaN\"}\n",
    "    location = get_location_by_address(dorm_address)\n",
    "    #latitude = location[\"latitude\"]\n",
    "    #longitude = location[\"longitude\"]\n",
    "    return location\n",
    "\n",
    "\n",
    "print(coordinatesNomantim(\"Dalslandsgade 8, Copenhagen\"))"
   ]
  },
  {
   "cell_type": "code",
   "execution_count": 84,
   "metadata": {
    "tags": []
   },
   "outputs": [
    {
     "output_type": "stream",
     "name": "stdout",
     "text": [
      "Processing Dorm\n",
      "WJmedg\n",
      "Processing Dorm\n",
      "Pv0aUg\n",
      "Processing Dorm\n",
      "CxP5aQ\n",
      "Processing Dorm\n",
      "fxWwjg\n",
      "Processing Dorm\n",
      "Couldn'd find coordinates of Emdrupvej 54 A, 2400 København NV\n",
      "t1r6qw\n",
      "Processing Dorm\n",
      "noxiRQ\n",
      "Processing Dorm\n",
      "JVpoBg\n",
      "Processing Dorm\n",
      "XOP3tQ\n",
      "Processing Dorm\n",
      "9BWZqw\n",
      "Processing Dorm\n",
      "Couldn'd find coordinates of Holmbladsgade 70 C, 2300 København S\n",
      "qf7guQ\n",
      "Processing Dorm\n",
      "b27RSw\n",
      "Processing Dorm\n",
      "KJHNAg\n",
      "Processing Dorm\n",
      "Couldn'd find coordinates of Kagsåkollegiet 2 , 2860 Søborg\n",
      "8jMgbg\n",
      "Processing Dorm\n",
      "F-96Ew\n",
      "Processing Dorm\n",
      "8el7dQ\n",
      "Processing Dorm\n",
      "xToATg\n",
      "Processing Dorm\n",
      "QMBfFQ\n",
      "Processing Dorm\n",
      "A5N2IQ\n",
      "Processing Dorm\n",
      "ym2bsw\n",
      "Processing Dorm\n",
      "xTHbBQ\n",
      "Processing Dorm\n",
      "Couldn'd find coordinates of Robert Jacobsensvej 61 , 2300 København S\n",
      "LBbSNA\n",
      "Processing Dorm\n",
      "PdUc3g\n",
      "Processing Dorm\n",
      "QdFMzw\n",
      "Processing Dorm\n",
      "Couldn'd find coordinates of Rektorparken 12 , 2450 København SV\n",
      "FwLBiA\n",
      "Processing Dorm\n",
      "Couldn'd find coordinates of Stærevej 66 , 2400 København NV\n",
      "8B2tmQ\n",
      "Processing Dorm\n",
      "E3-XLg\n",
      "Processing Dorm\n",
      "nEqM0Q\n",
      "Processing Dorm\n",
      "QHVzKA\n"
     ]
    }
   ],
   "source": [
    "\n",
    "kkik = []\n",
    "\n",
    "kollegium = soup.find_all('div', class_='kollegium row')\n",
    "\n",
    "\n",
    "for container in kollegium:\n",
    "    print(\"Processing Dorm\")\n",
    "    dorm_name = container.h3.a.text\n",
    "    dorm_address = container.div.find('div', class_=\"address\").text.strip().replace(\"\\r\\n               \", \"\").replace(\"\\xa0\", \"\")\n",
    "    try:\n",
    "        dorm_picture_link = container.find('img', class_=\"kollegiumlistimage img\")['src']\n",
    "    except: \n",
    "        dorm_picture_link = \"\"\n",
    "\n",
    "    body = container.find('div', class_=\"body col-xs-12\")\n",
    "    rows = body.find_all(\"div\", class_= \"row\")\n",
    "    rows.pop(0)\n",
    "    rows.pop(0)\n",
    "    rows.pop(0)\n",
    "\n",
    "    rooms_export = []\n",
    "\n",
    "    for room in rows:\n",
    "        room_details = room.find_all(\"div\")\n",
    "\n",
    "        roomtype = room_details[0].get_text().strip()\n",
    "        size = room_details[1].get_text().strip()\n",
    "        price = room_details[3].get_text().strip()\n",
    "        description = body.find('div', class_=\"description\")\n",
    "\n",
    "        rooms_export.append({\n",
    "            \"roomType\":roomtype,\n",
    "            \"size\":size,\n",
    "            \"price\":price\n",
    "        })\n",
    "\n",
    "    kkik.append({\n",
    "        \"name\":dorm_name,\n",
    "        \"address\":dorm_address,\n",
    "        \"uuid\":hash(dorm_name + dorm_address),\n",
    "        \"dormPictureLink\":\"https://www.kollegierneskontor.dk/\"+dorm_picture_link,\n",
    "        \"coordinates\":coordinatesNomantim(dorm_address),\n",
    "        \"description\":str(description),\n",
    "        \"rooms\":rooms_export\n",
    "    })\n",
    "\n",
    "    print(hash(dorm_name + dorm_address))\n",
    "\n",
    "\n",
    "\n",
    "\n",
    "\n",
    "\n"
   ]
  },
  {
   "cell_type": "code",
   "execution_count": 85,
   "metadata": {
    "tags": []
   },
   "outputs": [],
   "source": [
    "import json\n",
    "\n",
    "with open('json_kkik.json', 'w') as f:\n",
    "    json.dump(kkik, f)\n"
   ]
  },
  {
   "cell_type": "code",
   "execution_count": null,
   "metadata": {},
   "outputs": [],
   "source": []
  }
 ]
}