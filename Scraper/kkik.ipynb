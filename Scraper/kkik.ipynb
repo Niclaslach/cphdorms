{
 "metadata": {
  "language_info": {
   "codemirror_mode": {
    "name": "ipython",
    "version": 3
   },
   "file_extension": ".py",
   "mimetype": "text/x-python",
   "name": "python",
   "nbconvert_exporter": "python",
   "pygments_lexer": "ipython3",
   "version": "3.8.5"
  },
  "orig_nbformat": 2,
  "kernelspec": {
   "name": "python3",
   "display_name": "Python 3",
   "language": "python"
  }
 },
 "nbformat": 4,
 "nbformat_minor": 2,
 "cells": [
  {
   "cell_type": "code",
   "execution_count": 9,
   "metadata": {},
   "outputs": [],
   "source": [
    "import requests\n",
    "from requests import get\n",
    "from bs4 import BeautifulSoup\n",
    "import pandas as pd\n",
    "import numpy as np\n"
   ]
  },
  {
   "cell_type": "code",
   "execution_count": 6,
   "metadata": {},
   "outputs": [],
   "source": [
    "url = \"https://www.kollegierneskontor.dk/default.aspx?func=kkikportal.kollegiumlist&mid=40&topmenuid=34&lang=GB\"\n",
    "results = requests.get(url)"
   ]
  },
  {
   "cell_type": "code",
   "execution_count": 7,
   "metadata": {
    "tags": []
   },
   "outputs": [],
   "source": [
    "soup = BeautifulSoup(results.text, \"html.parser\")\n"
   ]
  },
  {
   "cell_type": "code",
   "execution_count": 8,
   "metadata": {
    "tags": []
   },
   "outputs": [
    {
     "output_type": "stream",
     "name": "stdout",
     "text": [
      "[{'name': 'Albertslund Ungdomsboliger', 'address': 'Morbærhaven 0 , 2620 Albertslund', 'rooms': [{'roomType': '1-room apartment with own bath / toilet, kitchen niche, exit to communal garden', 'size': '25,2 m2', 'price': 'kr. 2,957.00'}, {'roomType': '1-room apartment with own bath / toilet and kitchen niche, communal room, and communal kitchen (closed)', 'size': '25,2 m2', 'price': 'kr. 2,957.00'}, {'roomType': '1½-room apartment with own bath / toilet and kitchen niche, exit to communal garden', 'size': '41,5 m2', 'price': 'kr. 4,783.00'}, {'roomType': '2-room apartment with own bath / toilet and kitchen, exit to communal garden', 'size': '49,8 m2', 'price': 'kr. 5,754.00'}]}, {'name': 'Amagerbrogade 268', 'address': 'Amagerbrogade 268 , 2300 København S', 'rooms': [{'roomType': '1-room apt. with own bath/toilet and kitchen.', 'size': '39,5 m2', 'price': 'kr. 5,342.19'}, {'roomType': '2-room apt. with own bath/toilet and kithcen.', 'size': '46,5 m2', 'price': 'kr. 5,943.95'}, {'roomType': '1-room apt. with own bath/toilet and kitchen.', 'size': '42,8 m2', 'price': 'kr. 5,629.17'}, {'roomType': '1-room apt. with own bath/toilet and kitchen.', 'size': '38,7 m2', 'price': 'kr. 5,148.29'}, {'roomType': '1-room apt. with own bath/toilet and kitchen.', 'size': '43,2 m2', 'price': 'kr. 5,608.89'}, {'roomType': '2-room apt. with own bath/toilet and kitchen.', 'size': '45,8 m2', 'price': 'kr. 5,946.30'}, {'roomType': '2-room apt. with own bath/toilet and kitchen.', 'size': '45,1 m2', 'price': 'kr. 5,977.88'}, {'roomType': '1-room apt. with own bath/toilet and kitchen.', 'size': '42,7 m2', 'price': 'kr. 5,557.67'}, {'roomType': '1-room apt. with own bath/toilet and kitchen.', 'size': '45,9 m2', 'price': 'kr. 5,987.70'}, {'roomType': '2-room apt. with own bath/toilet and kitchen.', 'size': '45 m2', 'price': 'kr. 6,036.45'}]}, {'name': 'Dahlerup Ungdomsboliger', 'address': 'Dahlerupsgade 1 , 1603 København V', 'rooms': [{'roomType': '1 room apartment with own bath/toilet and kitchen niche', 'size': '39-42 m2', 'price': 'kr. 4,612.00'}, {'roomType': '1 room apartment with own bath/toilet and kitchen niche', 'size': '43-45 m2', 'price': 'kr. 4,985.00'}, {'roomType': '1 room apartment with own bath/toilet and kitchen niche', 'size': '45-47 m2', 'price': 'kr. 5,239.00'}, {'roomType': '1 room apartment with own bath/toilet and kitchen niche', 'size': '47-49 m2', 'price': 'kr. 5,462.00'}, {'roomType': '1 room apartment with own bath/toilet and kitchen niche', 'size': '49-50 m2', 'price': 'kr. 5,586.00'}, {'roomType': '1 room apartment with own bath/toilet and kitchen niche', 'size': '45,8 m2', 'price': 'kr. 5,119.00'}, {'roomType': '2 rooms apartment with own bath/toilet and kitchen niche', 'size': '45-47 m2', 'price': 'kr. 5,228.00'}, {'roomType': '2 rooms apartment with own bath/toilet and kitchen niche', 'size': '47-49 m2', 'price': 'kr. 5,328.00'}, {'roomType': '2 rooms apartment with own bath/toilet and kitchen niche', 'size': '49-49,9 m2', 'price': 'kr. 5,575.00'}, {'roomType': '2 rooms apartment with own bath/toilet and kitchen niche', 'size': '50 m2', 'price': 'kr. 5,586.00'}]}, {'name': 'Danmarks Internationale Kollegium', 'address': 'Vognporten 14 , 2620 Albertslund', 'rooms': [{'roomType': 'Room with own bath/toilet and common kitchen', 'size': '13 m2', 'price': 'kr. 2,833.00'}, {'roomType': '2-rooms apartment with own bath/toilet and kitchen niche', 'size': '35 m2', 'price': 'kr. 5,984.00'}]}, {'name': 'Det Nye Emdrupborg Kollegium (opsigelse kun på kontoret)', 'address': 'Emdrupvej 54 A, 2400 København NV', 'rooms': [{'roomType': '1-room apartment with own bath/toilet, kitchen niche and access to common kitchen.', 'size': '39 (27) m2', 'price': 'kr. 4,453.00'}, {'roomType': '1-room apartment with own bath/toilet, kitchen niche and access to common kitchen.', 'size': '41 (29) m2', 'price': 'kr. 4,703.00'}, {'roomType': '1-room apartment suitable for the physically disabled, with own bath/toilet, kitchen niche and access to common kitchen.', 'size': '48 (35) m2', 'price': 'kr. 5,440.00'}, {'roomType': 'Big 1-room apartment with own bath/toilet, kitchen niche and access to common kitchen.', 'size': '48 (35) m2', 'price': 'kr. 5,428.00'}, {'roomType': 'Big 1-room apartment with own bath/toilet, kitchen niche and access to common kitchen.', 'size': '49 (36) m2', 'price': 'kr. 5,512.00'}, {'roomType': '1-room, 1-person apartment on third floor with own bath/toilet, kitchen niche and access to common kitchen.', 'size': '42 (29) m2', 'price': 'kr. 4,758.00'}, {'roomType': '1-room apartment on third floor with own bath/toilet, kitchen niche and access to common kitchen.', 'size': '42 (30) m2', 'price': 'kr. 4,799.00'}, {'roomType': '2-room apartment with own bath/toilet, kitchen niche and access to common kitchen.', 'size': '48 (36) m2', 'price': 'kr. 5,512.00'}]}, {'name': 'Falkoner Kollegiet (kun opsigelse til WA ApS)', 'address': 'Sylows Allé 13 , 2000 Frederiksberg', 'rooms': [{'roomType': '1-room apartment with own bath/toilet and kitchen niche', 'size': '34 m2', 'price': 'kr. 4,125.99'}, {'roomType': '1-room apartment with own bath/toilet and kitchen niche', 'size': '36 m2', 'price': 'kr. 4,323.22'}, {'roomType': '1-room apartment with own bath/toilet and trinette niche', 'size': '39 m2', 'price': 'kr. 4,619.66'}, {'roomType': '2-room apt. with own bath, toilet and kitchen', 'size': '45 m2', 'price': 'kr. 5,327.51'}, {'roomType': '2-rooms apartment with own bath/toilet and kitchen niche', 'size': '48 m2', 'price': 'kr. 5,653.93'}, {'roomType': '1 room apartment with own bath/toilet and kitchen niche', 'size': '40 m2', 'price': 'kr. 4,775.71'}, {'roomType': '2-rooms apartment with own bath/toilet and kitchen niche', 'size': '46 m2', 'price': 'kr. 5,434.69'}]}, {'name': 'Frankrigsgade Kollegiet', 'address': 'Frankrigsgade 50 , 2300 København S', 'rooms': [{'roomType': 'Room with own bath/toilet and common kitchen', 'size': '14 (20) m2', 'price': 'kr. 3,043.00'}]}, {'name': 'Grønjordskollegiet (kun opsigelse til FA09)', 'address': 'Grønjordsvej 1 , 2300 København S', 'rooms': [{'roomType': 'Room with own bath/toilet and common kitchen', 'size': '18 m2', 'price': 'kr. 2,050.00'}, {'roomType': 'Doubleroom with own bath/toilet and common kitchen', 'size': '30 m2', 'price': 'kr. 3,240.00'}]}, {'name': 'Hedorfs Kollegium', 'address': \"Preben Kaas' Vænge 5 , 2000 Frederiksberg\", 'rooms': [{'roomType': '1-room apartment with own bath/toilet and kitchen niche.', 'size': '35 (25) m2', 'price': 'kr. 4,139.00'}, {'roomType': '1-room apartment with own bath, toilet and kitchen-niche', 'size': '36 (26) m2', 'price': 'kr. 4,139.00'}, {'roomType': '1-room apartment with own bath, toilet and kitchen niche.', 'size': '37 (27) m2', 'price': 'kr. 4,139.00'}, {'roomType': '1-room furnished apartment with own bath/toilet  and kitchen niche', 'size': '35 (25) m2', 'price': 'kr. 4,339.00'}, {'roomType': '1 room apartment with own bath/toilet and kitchen niche', 'size': '44 (34) m2', 'price': 'kr. 4,966.00'}]}, {'name': 'Holmbladsgade 70C', 'address': 'Holmbladsgade 70 C, 2300 København S', 'rooms': [{'roomType': '1-room with bath, toilet and kithen-niche', 'size': '41-43,3 m2', 'price': 'kr. 5,641.51'}, {'roomType': '2-rooms, with bath, toilet and kitchen-niche', 'size': '44,6-50 m2', 'price': 'kr. 6,335.18'}, {'roomType': '1-room apartment with own bath, toilet and kitchen niche.', 'size': '31-34,5 m2', 'price': 'kr. 4,730.88'}, {'roomType': '1-room apartment with own bath, toilet and kitchen niche.', 'size': '33-39,1 m2', 'price': 'kr. 5,783.49'}, {'roomType': '1-room apartment with own bath, toilet and kitchen niche.', 'size': '43,3-50 m2', 'price': 'kr. 6,335.18'}, {'roomType': 'Apartment with own bath, toilet and kitchen niche. Type-6', 'size': '50 m2', 'price': 'kr. 6,253.45'}]}, {'name': 'Husumvej 106', 'address': 'Husumvej 106 , 2700 Brønshøj', 'rooms': [{'roomType': 'Room with fridge/freezer and cupboard in the room, shared kitchen and shared bathroom.', 'size': '11,4 m2', 'price': 'kr. 3,475.00'}, {'roomType': 'Room with fridge/freezer and cupboard in the room, shared kitchen and shared bathroom', 'size': '11,4 m2', 'price': 'kr. 3,475.00'}, {'roomType': 'Room with fridge/freezer and cupboard in the room, shared kitchen and shared bathroom', 'size': '11,4 m2', 'price': 'kr. 3,475.00'}]}, {'name': 'Hvidovre Hospitals Kollegium', 'address': 'Kettegård Allé 70 , 2650 Hvidovre', 'rooms': [{'roomType': 'Room with own bath/toilet and common kitchen', 'size': '13 (18) m2', 'price': 'kr. 2,972.00'}]}, {'name': 'Kagsåkollegiet', 'address': 'Kagsåkollegiet 2 , 2860 Søborg', 'rooms': [{'roomType': '1-room apartment with own bath/toilet and kitchenniche', 'size': '19 m2', 'price': 'kr. 3,036.00'}, {'roomType': 'Room with own bath and toilet, shared kitchen', 'size': '17 m2', 'price': 'kr. 2,679.00'}, {'roomType': '2-room apt. with own bath, toilet and kitchen', 'size': '52 m2', 'price': 'kr. 4,726.00'}, {'roomType': '3-room apt. with own bath, toilet and kitchen', 'size': '60 m2', 'price': 'kr. 5,819.00'}, {'roomType': '3-room apt. in small townhouse with own bath, toilet and kitchen', 'size': '62 m2', 'price': 'kr. 6,177.00'}]}, {'name': 'Kirsebærhaven', 'address': 'Vigerslevvej 294 , 2500 Valby', 'rooms': [{'roomType': '1-room apartment with own bath/toilet and kitchen niche', 'size': '28 m2', 'price': 'kr. 3,291.00'}, {'roomType': '1 room apartment with own bath/toilet and kitchen niche', 'size': '27 m2', 'price': 'kr. 2,808.00'}, {'roomType': '1 room apartment with own bath/toilet and kitchen niche', 'size': '34 m2', 'price': 'kr. 3,490.00'}]}, {'name': 'Kollegiet Granbo', 'address': 'Bystævneparken 19 , 2700 Brønshøj', 'rooms': [{'roomType': '1-room apartment with own bath/toilet and kitchen niche.', 'size': '36 m2', 'price': 'kr. 3,120.03'}, {'roomType': '1-room apartment with own bath, toilet and kitchen-niche', 'size': '48 m2', 'price': 'kr. 4,095.03'}, {'roomType': '1-room apartment with own bath, toilet and kitchen niche.', 'size': '50 m2', 'price': 'kr. 4,257.53'}, {'roomType': '2-room apartment with own bath, toilet and kitchen niche.', 'size': '73 m2', 'price': 'kr. 6,126.03'}, {'roomType': '2-room apartment with own bath, toilet and kitchen niche.', 'size': '74 m2', 'price': 'kr. 6,207.53'}]}, {'name': 'Kollegiet Sofiegården (kun opsigelse til FA09)', 'address': 'Sofiegade 1 , 1418 København K', 'rooms': [{'roomType': '1-room with bath, toilet and kithen-niche', 'size': '25 m2', 'price': 'kr. 2,882.00'}, {'roomType': '2-rooms, with bath, toilet and kitchen-niche', 'size': '38 m2', 'price': 'kr. 4,695.00'}, {'roomType': 'Room - sharing bath/toilet and kitchen', 'size': '25 m2', 'price': 'kr. 2,719.00'}, {'roomType': '3.rooms apartment with own bath/toilet and kitchen', 'size': '54-65 m2', 'price': 'kr. 6,461.00'}]}, {'name': 'Kvintus Kollegiet', 'address': 'Kvintus Allé 7 , 2300 København S', 'rooms': [{'roomType': '1-room apartment with own bath/toilet and kitchen niche.', 'size': '33 m2', 'price': 'kr. 3,459.00'}, {'roomType': '1-room apartment with own bath, toilet and kitchen-niche', 'size': '33 m2', 'price': 'kr. 3,462.00'}, {'roomType': '1-room apartment with own bath/toilet and kitchen niche', 'size': '46 m2', 'price': 'kr. 4,747.00'}, {'roomType': '1-room apartment with own bath, toilet and kitchen niche.', 'size': '34 m2', 'price': 'kr. 3,761.00'}, {'roomType': '2-room apartment with own bath, toilet and kitchen niche.', 'size': '44 m2', 'price': 'kr. 4,867.00'}, {'roomType': '2-rooms apartment with own bath/toilet and kitchen niche', 'size': '42 m2', 'price': 'kr. 4,385.00'}, {'roomType': '2-rooms apartment with own bath/toilet and kitchen', 'size': '53 m2', 'price': 'kr. 5,448.00'}, {'roomType': '2 rooms apartment with own bath/toilet and kitchen', 'size': '44 m2', 'price': 'kr. 5,146.00'}, {'roomType': '2 rooms apartment with own bath/toilet and kitchen', 'size': '47 m2', 'price': 'kr. 5,186.00'}]}, {'name': 'Murergården', 'address': 'Murergade 12 , 2200 København N', 'rooms': [{'roomType': '2-room studentapt. with kitchen niche', 'size': '42 m2', 'price': 'kr. 2,633.00'}]}, {'name': 'Rebæk Søpark Kollegiet', 'address': 'Rebæk Søpark 5 , 2650 Hvidovre', 'rooms': [{'roomType': 'Room with own bath/toilet and common kitchen', 'size': '13 (20) m2', 'price': 'kr. 2,490.00'}]}, {'name': 'Rigshospitalets Kollegium', 'address': 'Jagtvej 120 , 2200 København N', 'rooms': [{'roomType': '1 room with own bath/toilet and common kitchen', 'size': '16 (20) m2', 'price': 'kr. 3,478.00'}]}, {'name': 'Robert Jacobsen Kollegiet (kun opsigelse til Newsec)', 'address': 'Robert Jacobsensvej 61 , 2300 København S', 'rooms': [{'roomType': '1-room apartment with own bath/toilet and kitchen niche', 'size': '41-43(24/25) m2', 'price': 'kr. 4,784.58'}, {'roomType': '1 room apartment with own bath/toilet and kitchen niche', 'size': '44 (28) m2', 'price': 'kr. 4,991.17'}, {'roomType': '1 room apartment with own bath, toilet and kitchen niche', 'size': '43/45 (27/29) m2', 'price': 'kr. 5,094.58'}, {'roomType': '1 room apartment with own bath/toilet and kitchen niche', 'size': '44 (26) m2', 'price': 'kr. 4,991.17'}, {'roomType': '1 room apartment with own bath/toilet and kitchen niche', 'size': '49 (32) m2', 'price': 'kr. 5,507.75'}]}, {'name': 'Ryesgade 58-58A', 'address': 'Ryesgade 58 A, 2100 København Ø', 'rooms': [{'roomType': 'Room with shared kitchen and shared bath/toilet.', 'size': '13,3 m2', 'price': 'kr. 3,149.00'}, {'roomType': '1-room apartment with own bath, toilet and kitchen niche.', 'size': '22,8 m2', 'price': 'kr. 4,108.00'}, {'roomType': '1 room with own bath/toilet and common kitchen', 'size': '21 m2', 'price': 'kr. 3,399.00'}]}, {'name': 'Sadolin Kollegiet', 'address': 'Lyneborggade 7 , 2300 København S', 'rooms': [{'roomType': '1-room apartment with own bath/toilet and kitchenniche', 'size': '46(23,4) m2', 'price': 'kr. 5,237.00'}, {'roomType': '1-room apartment with own bath/toilet and kitchenniche', 'size': '47(23,5) m2', 'price': 'kr. 5,238.00'}, {'roomType': '1-room apartment with own bath/toilet and kitchenniche', 'size': '47(24,3) m2', 'price': 'kr. 5,445.00'}, {'roomType': '1-room apartment with own bath/toilet and kitchenniche', 'size': '48(24,4) m2', 'price': 'kr. 5,552.00'}, {'roomType': '1-room apartment suitable for the physically disabled, with own bath/toilet, kitchen niche and access to common kitchen.', 'size': '48(24,6) m2', 'price': 'kr. 5,344.00'}]}, {'name': 'Solbakken', 'address': 'Rektorparken 12 , 2450 København SV', 'rooms': [{'roomType': '2-room apt. with own bath, toilet and kitchen', 'size': '46 (63) m2', 'price': 'kr. 6,299.00'}, {'roomType': '3-room apartment with own bath/toilet and kitchen', 'size': '61 (84) m2', 'price': 'kr. 8,408.00'}]}, {'name': 'Stærevej', 'address': 'Stærevej 66 , 2400 København NV', 'rooms': [{'roomType': '1-room apartment with own bath, toilet and kitchen.', 'size': '40 m2', 'price': 'kr. 5,203.64'}, {'roomType': '1-room apartment with own bath, toilet and kitchen', 'size': '45 m2', 'price': 'kr. 5,720.59'}, {'roomType': '1-room apartment with own bath, toilet and kitchen', 'size': '40,3 m2', 'price': 'kr. 5,275.13'}, {'roomType': '1-room apartment with own bath, toilet and kitchen', 'size': '49,2 m2', 'price': 'kr. 6,232.32'}, {'roomType': '2-værelses lejlighed med eget bad, toilet og køkken', 'size': '49,2 m2', 'price': 'kr. 6,151.69'}, {'roomType': '1-room apartment with own bath, toilet and kitchen', 'size': '49,2 m2', 'price': 'kr. 6,109.59'}, {'roomType': '2-room apartment with own bath, toilet and køkken', 'size': '48,9 m2', 'price': 'kr. 6,142.77'}, {'roomType': '2-room apartment with own bath, toilet and kitchen', 'size': '48,3 m2', 'price': 'kr. 6,077.58'}, {'roomType': '1-room apartment with own bath, toilet and kitchen', 'size': '47,6 m2', 'price': 'kr. 5,986.20'}, {'roomType': '1-room apartment with own bath, room and kitchen', 'size': '40,5 m2', 'price': 'kr. 5,409.58'}, {'roomType': '1-room apartment with own bath, toilet and kitchen', 'size': '39,8 m2', 'price': 'kr. 5,275.13'}, {'roomType': '1-room apartment with own bath, toilet and kitchen', 'size': '44,9 m2', 'price': 'kr. 5,710.54'}, {'roomType': '1-room apartment with own bath, toilet and kitchen', 'size': '50 m2', 'price': 'kr. 6,232.32'}, {'roomType': '1-room apartment with own bath, toilet and kitchen', 'size': '49,3 m2', 'price': 'kr. 6,161.96'}, {'roomType': '2-room apartment with own bath, toilet and kitchen', 'size': '49 m2', 'price': 'kr. 6,132.21'}, {'roomType': '1-room apartment with own bath, toilet and kitchen', 'size': '49,4 m2', 'price': 'kr. 6,172.54'}, {'roomType': '2-room apartment with own bath, toilet and kitchen', 'size': '48,7 m2', 'price': 'kr. 6,101.06'}]}, {'name': 'Sømoseparken', 'address': 'Sømoseparken 78 , 2750 Ballerup', 'rooms': [{'roomType': '1 room apartment with own bath/toilet and kitchen niche', 'size': '32,1 m2', 'price': 'kr. 4,194.99'}, {'roomType': '1 room apartment with own bath/toilet and kitchen niche', 'size': '33-34,2 m2', 'price': 'kr. 4,294.53'}, {'roomType': '1 room apartment with own bath/toilet and kitchen niche', 'size': '35,6-39 m2', 'price': 'kr. 4,887.54'}, {'roomType': '1 room apartment with own bath/toilet and kitchen niche', 'size': '49,9-50 m2', 'price': 'kr. 6,009.06'}]}, {'name': 'Øens Kollegium', 'address': 'Øresundsvej 94 , 2300 København S', 'rooms': [{'roomType': '1-room apartment with own bath/toilet and kitchen niche', 'size': '44,9(25,8) m2', 'price': 'kr. 5,334.00'}, {'roomType': '1-room apartment with own bath/toilet and kitchen niche', 'size': '48,9(29,8) m2', 'price': 'kr. 5,740.00'}, {'roomType': '1-room apartment with own bath/toilet and trinette niche', 'size': '45,1(26) m2', 'price': 'kr. 5,354.00'}, {'roomType': '1-room apartment with own bath/toilet and kitchen niche', 'size': '46,6(27,5) m2', 'price': 'kr. 5,506.00'}, {'roomType': '1 room apartment with own bath/toilet and kitchen niche', 'size': '46,3(27,2) m2', 'price': 'kr. 5,480.00'}, {'roomType': '1 room apartment with own bath/toilet and kitchen niche', 'size': '47,6(28,5) m2', 'price': 'kr. 5,608.00'}]}, {'name': 'Øresundskollegiet (Kun anvisning hos KKIK)', 'address': 'Dalslandsgade 8 , 2300 København S', 'rooms': [{'roomType': '2-rooms apartment with own bath/toilet and kitchen niche', 'size': '45(35) m2', 'price': 'kr. 4,283.00'}, {'roomType': '2-rooms apartment with own bath/toilet and kitchen', 'size': '54(32,5) m2', 'price': 'kr. 4,958.00'}, {'roomType': '2 rooms apartment with own bath/toilet and kitchen', 'size': '55(33,5) m2', 'price': 'kr. 5,046.00'}, {'roomType': '2 rooms apartment with own bath/toilet and kitchen', 'size': '58(36) m2', 'price': 'kr. 5,302.00'}, {'roomType': '2 rooms apartment with own bath/toilet and kitchen', 'size': '60(38,5) m2', 'price': 'kr. 5,488.00'}, {'roomType': '2-rooms apartment with own bath/toilet and kitchen', 'size': '64(42) m2', 'price': 'kr. 5,825.00'}, {'roomType': 'Big 2-rooms apartment with own bath/toilet and kitchen', 'size': '65,5(43) m2', 'price': 'kr. 5,911.00'}, {'roomType': '3 rooms apartment with own bath/toilet and kitchen', 'size': '66(44) m2', 'price': 'kr. 5,883.00'}, {'roomType': 'Room with own bath/toilet and common kitchen', 'size': '28,5(18,5) m2', 'price': 'kr. 2,463.00'}, {'roomType': '1-room apartment with own bath, toilet and kitchen-niche', 'size': '28,5(18,5) m2', 'price': 'kr. 2,743.00'}, {'roomType': '1-room apartment with own bath, toilet and kitchen niche.', 'size': '32(20,5) m2', 'price': 'kr. 3,047.00'}, {'roomType': '2 rooms apartment  with own bath/toilet and common kitchen', 'size': '54(32,5) m2', 'price': 'kr. 3,555.00'}, {'roomType': '2-room apartment with own bath, toilet and kitchen niche.', 'size': '47(36) m2', 'price': 'kr. 4,231.00'}]}]\nAmagerbrogade 268\n"
     ]
    }
   ],
   "source": [
    "\n",
    "kkik = []\n",
    "\n",
    "kollegium = soup.find_all('div', class_='kollegium row')\n",
    "\n",
    "\n",
    "\n",
    "for container in kollegium:\n",
    "\n",
    "    dorm_name = container.h3.a.text\n",
    "    \n",
    "    dorm_address = container.div.find('div', class_=\"address\").text.strip().replace(\"\\r\\n               \", \"\").replace(\"\\xa0\", \"\")\n",
    "\n",
    "\n",
    "    body = container.find('div', class_=\"body col-xs-12\")\n",
    "    rows = body.find_all(\"div\", class_= \"row\")\n",
    "    rows.pop(0)\n",
    "    rows.pop(0)\n",
    "    rows.pop(0)\n",
    "\n",
    "    rooms_export = []\n",
    "\n",
    "    for room in rows:\n",
    "        room_details = room.find_all(\"div\")\n",
    "\n",
    "        roomtype = room_details[0].get_text().strip()\n",
    "        size = room_details[1].get_text().strip()\n",
    "        price = room_details[3].get_text().strip()\n",
    "\n",
    "        rooms_export.append({\n",
    "            \"roomType\":roomtype,\n",
    "            \"size\":size,\n",
    "            \"price\":price\n",
    "        })\n",
    "\n",
    "    kkik.append({\n",
    "        \"name\":dorm_name,\n",
    "        \"address\":dorm_address,\n",
    "        \"rooms\":rooms_export\n",
    "    })\n",
    "\n",
    "\n",
    "\n",
    "\n",
    "print(kkik)\n",
    "  \n",
    "print(kkik[1][\"name\"])\n",
    "    \n",
    "\n"
   ]
  },
  {
   "cell_type": "code",
   "execution_count": 19,
   "metadata": {
    "tags": []
   },
   "outputs": [],
   "source": [
    "import json\n",
    "\n",
    "with open('json_kkik.json', 'w') as f:\n",
    "    json.dump(kkik, f)\n",
    "\n",
    "\n"
   ]
  },
  {
   "cell_type": "code",
   "execution_count": null,
   "metadata": {},
   "outputs": [],
   "source": []
  }
 ]
}