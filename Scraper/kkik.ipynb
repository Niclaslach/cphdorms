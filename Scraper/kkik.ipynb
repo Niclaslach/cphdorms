{
 "metadata": {
  "language_info": {
   "codemirror_mode": {
    "name": "ipython",
    "version": 3
   },
   "file_extension": ".py",
   "mimetype": "text/x-python",
   "name": "python",
   "nbconvert_exporter": "python",
   "pygments_lexer": "ipython3",
   "version": "3.8.2-final"
  },
  "orig_nbformat": 2,
  "kernelspec": {
   "name": "python3",
   "display_name": "Python 3.8.2 64-bit ('venvMaps': venv)",
   "metadata": {
    "interpreter": {
     "hash": "077fe6fd6570d11d355a74f5083572f354523aaff3dcd4768a7c3f22f558bbad"
    }
   }
  }
 },
 "nbformat": 4,
 "nbformat_minor": 2,
 "cells": [
  {
   "cell_type": "code",
   "execution_count": 1,
   "metadata": {},
   "outputs": [],
   "source": [
    "import requests\n",
    "from requests import get\n",
    "from bs4 import BeautifulSoup\n",
    "import pandas as pd\n",
    "import numpy as np\n"
   ]
  },
  {
   "cell_type": "code",
   "execution_count": 18,
   "metadata": {},
   "outputs": [
    {
     "output_type": "stream",
     "name": "stdout",
     "text": [
      "Requirement already satisfied: geopy in /Users/niclas/Documents/Python/Maps/venvMaps/lib/python3.8/site-packages (2.1.0)\n",
      "Requirement already satisfied: geographiclib<2,>=1.49 in /Users/niclas/Documents/Python/Maps/venvMaps/lib/python3.8/site-packages (from geopy) (1.50)\n"
     ]
    }
   ],
   "source": [
    "#geopy installation\n",
    "\n",
    "!pip install geopy\n",
    "import geopy \n",
    "\n",
    "from geopy.geocoders import Nominatim\n",
    "import time\n",
    "from pprint import pprint\n",
    "\n",
    "app = Nominatim(user_agent=\"cphDorms\")"
   ]
  },
  {
   "cell_type": "code",
   "execution_count": 3,
   "metadata": {},
   "outputs": [
    {
     "output_type": "stream",
     "name": "stdout",
     "text": [
      "Requirement already satisfied: shortuuid in /Users/niclas/Documents/Python/Maps/venvMaps/lib/python3.8/site-packages (1.0.1)\n",
      "3Zh66k\n"
     ]
    }
   ],
   "source": [
    "#Installing shortuuid to make dorms identifiable (Some Dorm Names Suck!)\n",
    "\n",
    "!pip install shortuuid\n",
    "\n",
    "import shortuuid    \n",
    "print(shortuuid.ShortUUID().random(length=6)) #Example Code "
   ]
  },
  {
   "cell_type": "code",
   "execution_count": 4,
   "metadata": {},
   "outputs": [],
   "source": [
    "url = \"https://www.kollegierneskontor.dk/default.aspx?func=kkikportal.kollegiumlist&mid=40&topmenuid=34&lang=GB\"\n",
    "results = requests.get(url)"
   ]
  },
  {
   "cell_type": "code",
   "execution_count": 5,
   "metadata": {
    "tags": []
   },
   "outputs": [],
   "source": [
    "soup = BeautifulSoup(results.text, \"html.parser\")\n"
   ]
  },
  {
   "cell_type": "code",
   "execution_count": 16,
   "metadata": {},
   "outputs": [
    {
     "output_type": "stream",
     "name": "stdout",
     "text": [
      "['55.667422', '12.60431']\n"
     ]
    }
   ],
   "source": [
    "#Longitude and latitude\n",
    "\n",
    "def coordinates(dorm_address):\n",
    "    def get_location_by_address(address):\n",
    "        time.sleep(1.5)\n",
    "        try:\n",
    "             return app.geocode(address).raw\n",
    "        except:\n",
    "            print(\"Couldn'd find coordinates of \" + address)\n",
    "            return {\"lat\":\"NaN\", \"lon\":\"NaN\"}\n",
    "    address = dorm_address\n",
    "    location = get_location_by_address(address)\n",
    "    latitude = location[\"lat\"]\n",
    "    longitude = location[\"lon\"]\n",
    "    return [latitude, longitude]\n",
    "\n",
    "#print(f\"{latitude}, {longitude}\")\n",
    "# print all returned data\n",
    "#pprint(location)\n",
    "\n",
    "print(coordinates(\"Dalslandsgade 8, Copenhagen S\"))"
   ]
  },
  {
   "cell_type": "code",
   "execution_count": 19,
   "metadata": {
    "tags": []
   },
   "outputs": [
    {
     "output_type": "stream",
     "name": "stdout",
     "text": [
      "Processing Dorm\n",
      "Processing Dorm\n",
      "Processing Dorm\n",
      "Processing Dorm\n",
      "Processing Dorm\n",
      "Couldn'd find coordinates of Emdrupvej 54 A, 2400 København NV\n",
      "Processing Dorm\n",
      "Processing Dorm\n",
      "Processing Dorm\n",
      "Processing Dorm\n",
      "Processing Dorm\n",
      "Couldn'd find coordinates of Holmbladsgade 70 C, 2300 København S\n",
      "Processing Dorm\n",
      "Processing Dorm\n",
      "Processing Dorm\n",
      "Couldn'd find coordinates of Kagsåkollegiet 2 , 2860 Søborg\n",
      "Processing Dorm\n",
      "Processing Dorm\n",
      "Processing Dorm\n",
      "Processing Dorm\n",
      "Processing Dorm\n",
      "Processing Dorm\n",
      "Processing Dorm\n",
      "Processing Dorm\n",
      "Couldn'd find coordinates of Robert Jacobsensvej 61 , 2300 København S\n",
      "Processing Dorm\n",
      "Processing Dorm\n",
      "Processing Dorm\n",
      "Couldn'd find coordinates of Rektorparken 12 , 2450 København SV\n",
      "Processing Dorm\n",
      "Couldn'd find coordinates of Stærevej 66 , 2400 København NV\n",
      "Processing Dorm\n",
      "Processing Dorm\n",
      "Processing Dorm\n"
     ]
    }
   ],
   "source": [
    "\n",
    "kkik = []\n",
    "\n",
    "kollegium = soup.find_all('div', class_='kollegium row')\n",
    "\n",
    "\n",
    "for container in kollegium:\n",
    "    print(\"Processing Dorm\")\n",
    "    dorm_name = container.h3.a.text\n",
    "    dorm_address = container.div.find('div', class_=\"address\").text.strip().replace(\"\\r\\n               \", \"\").replace(\"\\xa0\", \"\")\n",
    "\n",
    "    body = container.find('div', class_=\"body col-xs-12\")\n",
    "    rows = body.find_all(\"div\", class_= \"row\")\n",
    "    rows.pop(0)\n",
    "    rows.pop(0)\n",
    "    rows.pop(0)\n",
    "\n",
    "    rooms_export = []\n",
    "\n",
    "    for room in rows:\n",
    "        room_details = room.find_all(\"div\")\n",
    "\n",
    "        roomtype = room_details[0].get_text().strip()\n",
    "        size = room_details[1].get_text().strip()\n",
    "        price = room_details[3].get_text().strip()\n",
    "\n",
    "        rooms_export.append({\n",
    "            \"roomType\":roomtype,\n",
    "            \"size\":size,\n",
    "            \"price\":price\n",
    "        })\n",
    "\n",
    "    kkik.append({\n",
    "        \"name\":dorm_name,\n",
    "        \"address\":dorm_address,\n",
    "        \"coordinates\":coordinates(dorm_address),\n",
    "        \"rooms\":rooms_export,\n",
    "        \"UUID\":shortuuid.ShortUUID().random(length=6)\n",
    "    })\n",
    "\n",
    "\n",
    "\n",
    "\n",
    "\n",
    "\n"
   ]
  },
  {
   "cell_type": "code",
   "execution_count": 42,
   "metadata": {
    "tags": []
   },
   "outputs": [],
   "source": [
    "import json\n",
    "\n",
    "with open('json_kkik.json', 'w') as f:\n",
    "    json.dump(kkik, f)\n"
   ]
  },
  {
   "cell_type": "code",
   "execution_count": 4,
   "metadata": {},
   "outputs": [
    {
     "output_type": "stream",
     "name": "stdout",
     "text": [
      "Requirement already satisfied: shortuuid in /Users/niclas/Documents/Python/Maps/venvMaps/lib/python3.8/site-packages (1.0.1)\n",
      "3Y9pHV\n"
     ]
    }
   ],
   "source": []
  },
  {
   "cell_type": "code",
   "execution_count": null,
   "metadata": {},
   "outputs": [],
   "source": []
  }
 ]
}