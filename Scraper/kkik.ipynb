{
 "metadata": {
  "language_info": {
   "codemirror_mode": {
    "name": "ipython",
    "version": 3
   },
   "file_extension": ".py",
   "mimetype": "text/x-python",
   "name": "python",
   "nbconvert_exporter": "python",
   "pygments_lexer": "ipython3",
   "version": "3.8.2-final"
  },
  "orig_nbformat": 2,
  "kernelspec": {
   "name": "python3",
   "display_name": "Python 3.8.2 64-bit",
   "metadata": {
    "interpreter": {
     "hash": "077fe6fd6570d11d355a74f5083572f354523aaff3dcd4768a7c3f22f558bbad"
    }
   }
  }
 },
 "nbformat": 4,
 "nbformat_minor": 2,
 "cells": [
  {
   "cell_type": "code",
   "execution_count": 1,
   "metadata": {},
   "outputs": [],
   "source": [
    "import requests\n",
    "from requests import get\n",
    "from bs4 import BeautifulSoup\n",
    "import pandas as pd\n",
    "import numpy as np\n"
   ]
  },
  {
   "cell_type": "code",
   "execution_count": 2,
   "metadata": {},
   "outputs": [
    {
     "output_type": "stream",
     "name": "stdout",
     "text": [
      "Requirement already satisfied: geopy in /Users/niclas/Documents/Python/Maps/venvMaps/lib/python3.8/site-packages (2.1.0)\n",
      "Requirement already satisfied: geographiclib<2,>=1.49 in /Users/niclas/Documents/Python/Maps/venvMaps/lib/python3.8/site-packages (from geopy) (1.50)\n"
     ]
    }
   ],
   "source": [
    "#geopy installation\n",
    "\n",
    "!pip install geopy\n",
    "import geopy \n",
    "\n",
    "from geopy.geocoders import GoogleV3\n",
    "import time\n",
    "from pprint import pprint\n",
    "geolocator = GoogleV3(api_key=\"\")"
   ]
  },
  {
   "cell_type": "code",
   "execution_count": 3,
   "metadata": {},
   "outputs": [
    {
     "output_type": "stream",
     "name": "stdout",
     "text": [
      "Requirement already satisfied: shortuuid in /Users/niclas/Documents/Python/Maps/venvMaps/lib/python3.8/site-packages (1.0.1)\n",
      "3v9c5z\n"
     ]
    }
   ],
   "source": [
    "#Installing shortuuid to make dorms identifiable (Some Dorm Names Suck!)\n",
    "\n",
    "!pip install shortuuid\n",
    "\n",
    "import shortuuid    \n",
    "print(shortuuid.ShortUUID().random(length=6)) #Example Code "
   ]
  },
  {
   "cell_type": "code",
   "execution_count": 4,
   "metadata": {},
   "outputs": [],
   "source": [
    "url = \"https://www.kollegierneskontor.dk/default.aspx?func=kkikportal.kollegiumlist&mid=40&topmenuid=34&lang=GB\"\n",
    "results = requests.get(url)"
   ]
  },
  {
   "cell_type": "code",
   "execution_count": 5,
   "metadata": {
    "tags": []
   },
   "outputs": [],
   "source": [
    "soup = BeautifulSoup(results.text, \"html.parser\")\n"
   ]
  },
  {
   "cell_type": "code",
   "execution_count": 6,
   "metadata": {},
   "outputs": [
    {
     "output_type": "stream",
     "name": "stdout",
     "text": [
      "Couldn'd find coordinates of Dalslandsgade 8, Copenhagen S\n{'latitude': 'NaN', 'longitude': 'NaN'}\n"
     ]
    }
   ],
   "source": [
    "#Longitude and latitude\n",
    "\n",
    "def coordinates(dorm_address):\n",
    "    def get_location_by_address(address):\n",
    "        #Short Wait\n",
    "        try:\n",
    "             location = geolocator.geocode(address)\n",
    "             return {\"latitude\":location.latitude, \"longitude\":location.longitude}\n",
    "        except:\n",
    "            print(\"Couldn'd find coordinates of \" + address)\n",
    "            return {\"latitude\":\"NaN\", \"longitude\":\"NaN\"}\n",
    "    location = get_location_by_address(dorm_address)\n",
    "    #latitude = location[\"latitude\"]\n",
    "    #longitude = location[\"longitude\"]\n",
    "    return location\n",
    "\n",
    "#print(f\"{latitude}, {longitude}\")\n",
    "# print all returned data\n",
    "#pprint(location)\n",
    "\n",
    "print(coordinates(\"Dalslandsgade 8, Copenhagen S\"))"
   ]
  },
  {
   "cell_type": "code",
   "execution_count": 7,
   "metadata": {
    "tags": []
   },
   "outputs": [
    {
     "output_type": "stream",
     "name": "stdout",
     "text": [
      "Processing Dorm\n",
      "getadminimage.aspx?imagename=9ee7415c-f181-46fd-a911-d65faa4f4956.JPG&params=w150&w100\n",
      "Couldn'd find coordinates of Morbærhaven 0 , 2620 Albertslund\n",
      "Processing Dorm\n",
      "getadminimage.aspx?imagename=8be6df9c-fbb2-4dc6-aff1-4fd1316afd58.jpg&params=w150&w100\n",
      "Couldn'd find coordinates of Amagerbrogade 268 , 2300 København S\n",
      "Processing Dorm\n",
      "getadminimage.aspx?imagename=97f987a2-20ab-47ae-bc38-8c27fb6ca55b.JPG&params=w150&w100\n",
      "Couldn'd find coordinates of Dahlerupsgade 1 , 1603 København V\n",
      "Processing Dorm\n",
      "getadminimage.aspx?imagename=e3e83082-f8c5-47e9-a3b4-fe6dcfbd5012.JPG&params=w150&w100\n",
      "Couldn'd find coordinates of Vognporten 14 , 2620 Albertslund\n",
      "Processing Dorm\n",
      "getadminimage.aspx?imagename=39b532b1-f6c7-4b23-af63-2108d52dcf40.JPG&params=w150&w100\n",
      "Couldn'd find coordinates of Emdrupvej 54 A, 2400 København NV\n",
      "Processing Dorm\n",
      "getadminimage.aspx?imagename=dffc7704-7e89-4c9c-a610-6e0077270b3a.JPG&params=w150&w100\n",
      "Couldn'd find coordinates of Sylows Allé 13 , 2000 Frederiksberg\n",
      "Processing Dorm\n",
      "getadminimage.aspx?imagename=203644bb-60b0-4cd8-bb3a-55c173f77dfb.JPG&params=w150&w100\n",
      "Couldn'd find coordinates of Frankrigsgade 50 , 2300 København S\n",
      "Processing Dorm\n",
      "getadminimage.aspx?imagename=11ed741d-c7bd-4c6d-ac60-d8c6b8eead1c.jpg&params=w150&w100\n",
      "Couldn'd find coordinates of Grønjordsvej 1 , 2300 København S\n",
      "Processing Dorm\n",
      "getadminimage.aspx?imagename=2a5d5c20-07e1-4c39-b301-8c6f3d238ecd.JPG&params=w150&w100\n",
      "Couldn'd find coordinates of Preben Kaas' Vænge 5 , 2000 Frederiksberg\n",
      "Processing Dorm\n",
      "getadminimage.aspx?imagename=445466ee-4a33-4f5a-8e4e-3eda13c91983.jpg&params=w150&w100\n",
      "Couldn'd find coordinates of Holmbladsgade 70 C, 2300 København S\n",
      "Processing Dorm\n"
     ]
    },
    {
     "output_type": "error",
     "ename": "TypeError",
     "evalue": "'NoneType' object is not subscriptable",
     "traceback": [
      "\u001b[0;31m---------------------------------------------------------------------------\u001b[0m",
      "\u001b[0;31mTypeError\u001b[0m                                 Traceback (most recent call last)",
      "\u001b[0;32m<ipython-input-7-9f6ac1b03080>\u001b[0m in \u001b[0;36m<module>\u001b[0;34m\u001b[0m\n\u001b[1;32m      8\u001b[0m     \u001b[0mdorm_name\u001b[0m \u001b[0;34m=\u001b[0m \u001b[0mcontainer\u001b[0m\u001b[0;34m.\u001b[0m\u001b[0mh3\u001b[0m\u001b[0;34m.\u001b[0m\u001b[0ma\u001b[0m\u001b[0;34m.\u001b[0m\u001b[0mtext\u001b[0m\u001b[0;34m\u001b[0m\u001b[0;34m\u001b[0m\u001b[0m\n\u001b[1;32m      9\u001b[0m     \u001b[0mdorm_address\u001b[0m \u001b[0;34m=\u001b[0m \u001b[0mcontainer\u001b[0m\u001b[0;34m.\u001b[0m\u001b[0mdiv\u001b[0m\u001b[0;34m.\u001b[0m\u001b[0mfind\u001b[0m\u001b[0;34m(\u001b[0m\u001b[0;34m'div'\u001b[0m\u001b[0;34m,\u001b[0m \u001b[0mclass_\u001b[0m\u001b[0;34m=\u001b[0m\u001b[0;34m\"address\"\u001b[0m\u001b[0;34m)\u001b[0m\u001b[0;34m.\u001b[0m\u001b[0mtext\u001b[0m\u001b[0;34m.\u001b[0m\u001b[0mstrip\u001b[0m\u001b[0;34m(\u001b[0m\u001b[0;34m)\u001b[0m\u001b[0;34m.\u001b[0m\u001b[0mreplace\u001b[0m\u001b[0;34m(\u001b[0m\u001b[0;34m\"\\r\\n               \"\u001b[0m\u001b[0;34m,\u001b[0m \u001b[0;34m\"\"\u001b[0m\u001b[0;34m)\u001b[0m\u001b[0;34m.\u001b[0m\u001b[0mreplace\u001b[0m\u001b[0;34m(\u001b[0m\u001b[0;34m\"\\xa0\"\u001b[0m\u001b[0;34m,\u001b[0m \u001b[0;34m\"\"\u001b[0m\u001b[0;34m)\u001b[0m\u001b[0;34m\u001b[0m\u001b[0;34m\u001b[0m\u001b[0m\n\u001b[0;32m---> 10\u001b[0;31m     \u001b[0mdorm_picture_link\u001b[0m \u001b[0;34m=\u001b[0m \u001b[0mcontainer\u001b[0m\u001b[0;34m.\u001b[0m\u001b[0mfind\u001b[0m\u001b[0;34m(\u001b[0m\u001b[0;34m'img'\u001b[0m\u001b[0;34m,\u001b[0m \u001b[0mclass_\u001b[0m\u001b[0;34m=\u001b[0m\u001b[0;34m\"kollegiumlistimage img\"\u001b[0m\u001b[0;34m)\u001b[0m\u001b[0;34m[\u001b[0m\u001b[0;34m'src'\u001b[0m\u001b[0;34m]\u001b[0m\u001b[0;34m\u001b[0m\u001b[0;34m\u001b[0m\u001b[0m\n\u001b[0m\u001b[1;32m     11\u001b[0m     \u001b[0mprint\u001b[0m\u001b[0;34m(\u001b[0m\u001b[0mdorm_picture_link\u001b[0m\u001b[0;34m)\u001b[0m\u001b[0;34m\u001b[0m\u001b[0;34m\u001b[0m\u001b[0m\n\u001b[1;32m     12\u001b[0m \u001b[0;34m\u001b[0m\u001b[0m\n",
      "\u001b[0;31mTypeError\u001b[0m: 'NoneType' object is not subscriptable"
     ]
    }
   ],
   "source": [
    "\n",
    "kkik = []\n",
    "\n",
    "kollegium = soup.find_all('div', class_='kollegium row')\n",
    "\n",
    "\n",
    "for container in kollegium:\n",
    "    print(\"Processing Dorm\")\n",
    "    dorm_name = container.h3.a.text\n",
    "    dorm_address = container.div.find('div', class_=\"address\").text.strip().replace(\"\\r\\n               \", \"\").replace(\"\\xa0\", \"\")\n",
    "    dorm_picture_link = container.find('img', class_=\"kollegiumlistimage img\")['src']\n",
    "    print(dorm_picture_link)\n",
    "\n",
    "    body = container.find('div', class_=\"body col-xs-12\")\n",
    "    rows = body.find_all(\"div\", class_= \"row\")\n",
    "    rows.pop(0)\n",
    "    rows.pop(0)\n",
    "    rows.pop(0)\n",
    "\n",
    "    rooms_export = []\n",
    "\n",
    "    for room in rows:\n",
    "        room_details = room.find_all(\"div\")\n",
    "\n",
    "        roomtype = room_details[0].get_text().strip()\n",
    "        size = room_details[1].get_text().strip()\n",
    "        price = room_details[3].get_text().strip()\n",
    "\n",
    "        rooms_export.append({\n",
    "            \"roomType\":roomtype,\n",
    "            \"size\":size,\n",
    "            \"price\":price\n",
    "        })\n",
    "\n",
    "    kkik.append({\n",
    "        \"name\":dorm_name,\n",
    "        \"address\":dorm_address,\n",
    "        \"dormPictureLink\":\"https://www.kollegierneskontor.dk/\"+dorm_picture_link\n",
    "        \"coordinates\":coordinates(dorm_address),\n",
    "        \"rooms\":rooms_export,\n",
    "        \"UUID\":shortuuid.ShortUUID().random(length=6)\n",
    "    })\n",
    "\n",
    "\n",
    "\n",
    "\n",
    "\n",
    "\n"
   ]
  },
  {
   "cell_type": "code",
   "execution_count": 28,
   "metadata": {
    "tags": []
   },
   "outputs": [],
   "source": [
    "import json\n",
    "\n",
    "with open('json_kkik.json', 'w') as f:\n",
    "    json.dump(kkik, f)\n"
   ]
  },
  {
   "cell_type": "code",
   "execution_count": 4,
   "metadata": {},
   "outputs": [
    {
     "output_type": "stream",
     "name": "stdout",
     "text": [
      "Requirement already satisfied: shortuuid in /Users/niclas/Documents/Python/Maps/venvMaps/lib/python3.8/site-packages (1.0.1)\n",
      "3Y9pHV\n"
     ]
    }
   ],
   "source": []
  },
  {
   "cell_type": "code",
   "execution_count": null,
   "metadata": {},
   "outputs": [],
   "source": []
  }
 ]
}