{
 "metadata": {
  "language_info": {
   "codemirror_mode": {
    "name": "ipython",
    "version": 3
   },
   "file_extension": ".py",
   "mimetype": "text/x-python",
   "name": "python",
   "nbconvert_exporter": "python",
   "pygments_lexer": "ipython3",
   "version": "3.8.2-final"
  },
  "orig_nbformat": 2,
  "kernelspec": {
   "name": "python3",
   "display_name": "Python 3",
   "language": "python"
  }
 },
 "nbformat": 4,
 "nbformat_minor": 2,
 "cells": [
  {
   "cell_type": "code",
   "execution_count": 1,
   "metadata": {},
   "outputs": [],
   "source": [
    "import requests\n",
    "from requests import get\n",
    "from bs4 import BeautifulSoup\n",
    "import pandas as pd\n",
    "import numpy as np\n",
    "import re"
   ]
  },
  {
   "cell_type": "code",
   "execution_count": 2,
   "metadata": {},
   "outputs": [
    {
     "output_type": "stream",
     "name": "stdout",
     "text": [
      "Requirement already satisfied: geopy in /Users/niclas/Documents/Python/Maps/venvMaps/lib/python3.8/site-packages (2.1.0)\n",
      "Requirement already satisfied: geographiclib<2,>=1.49 in /Users/niclas/Documents/Python/Maps/venvMaps/lib/python3.8/site-packages (from geopy) (1.50)\n"
     ]
    }
   ],
   "source": [
    "#geopy installation\n",
    "\n",
    "!pip install geopy\n",
    "import geopy \n",
    "\n",
    "from geopy.geocoders import GoogleV3\n",
    "from geopy.geocoders import Nominatim\n",
    "import time\n",
    "from pprint import pprint\n",
    "geolocatorGoogle = GoogleV3(api_key=\" \")\n",
    "geolocatorNom = Nominatim(user_agent=\"cphDorms\")"
   ]
  },
  {
   "cell_type": "code",
   "execution_count": 3,
   "metadata": {},
   "outputs": [
    {
     "output_type": "execute_result",
     "data": {
      "text/plain": [
       "'J4nBfw'"
      ]
     },
     "metadata": {},
     "execution_count": 3
    }
   ],
   "source": [
    "#Using hashlib to shorten dorm names and make them identifiable (Some Dorm Names Suck!)\n",
    "import base64\n",
    "from hashlib import blake2b\n",
    "\n",
    "\n",
    "def hash(input):\n",
    "    hasher = blake2b(digest_size=4)\n",
    "    hasher.update(input.encode())\n",
    "    return str(base64.urlsafe_b64encode(hasher.digest()).decode('UTF-8')).rstrip('=')\n",
    "\n",
    "hash(\"Albertslund UngdomsboligerMorbærhaven 0 , 2620 Albertslund\")"
   ]
  },
  {
   "cell_type": "code",
   "execution_count": 4,
   "metadata": {},
   "outputs": [],
   "source": [
    "url = \"https://www.kollegierneskontor.dk/default.aspx?func=kkikportal.kollegiumlist&mid=40&topmenuid=34&lang=GB\"\n",
    "results = requests.get(url)\n",
    "soup = BeautifulSoup(results.text, \"html.parser\")"
   ]
  },
  {
   "cell_type": "code",
   "execution_count": 5,
   "metadata": {},
   "outputs": [
    {
     "output_type": "stream",
     "name": "stdout",
     "text": [
      "Couldn'd find coordinates of Dalslands,hjhkljhgade 8, Copenhagen\n{'latitude': -1, 'longitude': -1}\n"
     ]
    }
   ],
   "source": [
    "#Longitude and latitude\n",
    "\n",
    "def coordinatesGoogle(dorm_address):\n",
    "    def get_location_by_address(address):\n",
    "        #Short Wait\n",
    "        try:\n",
    "             location = geolocatorGoogle.geocode(address)\n",
    "             return {\"latitude\":float(location.latitude), \"longitude\":float(location.longitude)}\n",
    "        except:\n",
    "            print(\"Couldn'd find coordinates of \" + address)\n",
    "            return {\"latitude\":-1, \"longitude\":-1}\n",
    "    location = get_location_by_address(dorm_address)\n",
    "    #latitude = location[\"latitude\"]\n",
    "    #longitude = location[\"longitude\"]\n",
    "    return location\n",
    "\n",
    "#print(f\"{latitude}, {longitude}\")\n",
    "# print all returned data\n",
    "#pprint(location)\n",
    "\n",
    "def coordinatesNomantim(dorm_address):\n",
    "    def get_location_by_address(address):\n",
    "        #Short Wait\n",
    "        try:\n",
    "             location = geolocatorNom.geocode(address).raw\n",
    "             return {\"latitude\":float(location['lat']), \"longitude\":float(location['lon'])}\n",
    "        except:\n",
    "            print(\"Couldn'd find coordinates of \" + address)\n",
    "            return {\"latitude\":-1, \"longitude\":-1}\n",
    "    location = get_location_by_address(dorm_address)\n",
    "    #latitude = location[\"latitude\"]\n",
    "    #longitude = location[\"longitude\"]\n",
    "    return location\n",
    "\n",
    "\n",
    "print(coordinatesNomantim(\"Dalslands,hjhkljhgade 8, Copenhagen\"))"
   ]
  },
  {
   "cell_type": "code",
   "execution_count": 6,
   "metadata": {
    "tags": []
   },
   "outputs": [
    {
     "output_type": "stream",
     "name": "stdout",
     "text": [
      "Processing Dorm\n",
      "Albertslund UngdomsboligerMorbærhaven 0 , 2620 Albertslund\n",
      "J4nBfw\n",
      "\n",
      "Processing Dorm\n",
      "Amagerbrogade 268Amagerbrogade 268 , 2300 København S\n",
      "KMLY4w\n",
      "\n",
      "Processing Dorm\n",
      "Dahlerup UngdomsboligerDahlerupsgade 1 , 1603 København V\n",
      "auJZ6w\n",
      "\n",
      "Processing Dorm\n",
      "Danmarks Internationale KollegiumVognporten 14 , 2620 Albertslund\n",
      "5DdXUA\n",
      "\n",
      "Processing Dorm\n",
      "Couldn'd find coordinates of Emdrupvej 54 A, 2400 København NV\n",
      "Det Nye Emdrupborg Kollegium (administreres af FA09)Emdrupvej 54 A, 2400 København NV\n",
      "G-z6og\n",
      "\n",
      "Processing Dorm\n",
      "Falkoner Kollegiet (administreres og udlejes af WA ApS)Sylows Allé 13 , 2000 Frederiksberg\n",
      "EaVmRg\n",
      "\n",
      "Processing Dorm\n",
      "Frankrigsgade KollegietFrankrigsgade 50 , 2300 København S\n",
      "_p3oFQ\n",
      "\n",
      "Processing Dorm\n",
      "Grønjordskollegiet (administreres af FA09)Grønjordsvej 1 , 2300 København S\n",
      "RwONEw\n",
      "\n",
      "Processing Dorm\n",
      "Hedorfs KollegiumPreben Kaas' Vænge 5 , 2000 Frederiksberg\n",
      "j-bJLA\n",
      "\n",
      "Processing Dorm\n",
      "Couldn'd find coordinates of Holmbladsgade 70 C, 2300 København S\n",
      "Holmbladsgade 70CHolmbladsgade 70 C, 2300 København S\n",
      "jekFNw\n",
      "\n",
      "Processing Dorm\n",
      "Husumvej 106Husumvej 106 , 2700 Brønshøj\n",
      "taI_bQ\n",
      "\n",
      "Processing Dorm\n",
      "Hvidovre Hospitals KollegiumKettegård Allé 70 , 2650 Hvidovre\n",
      "35kf9g\n",
      "\n",
      "Processing Dorm\n",
      "Couldn'd find coordinates of Kagsåkollegiet 2 , 2860 Søborg\n",
      "KagsåkollegietKagsåkollegiet 2 , 2860 Søborg\n",
      "9kuDgA\n",
      "\n",
      "Processing Dorm\n",
      "KirsebærhavenVigerslevvej 294 , 2500 Valby\n",
      "pVNRuw\n",
      "\n",
      "Processing Dorm\n",
      "Kollegiet GranboBystævneparken 19 , 2700 Brønshøj\n",
      "gf_oUA\n",
      "\n",
      "Processing Dorm\n",
      "Kollegiet Sofiegården (administreres af FA09)Sofiegade 1 , 1418 København K\n",
      "pM3W-A\n",
      "\n",
      "Processing Dorm\n",
      "Kvintus KollegietKvintus Allé 7 , 2300 København S\n",
      "DRW4CA\n",
      "\n",
      "Processing Dorm\n",
      "MurergårdenMurergade 12 , 2200 København N\n",
      "L340fQ\n",
      "\n",
      "Processing Dorm\n",
      "Rebæk Søpark KollegietRebæk Søpark 5 , 2650 Hvidovre\n",
      "R32vqg\n",
      "\n",
      "Processing Dorm\n",
      "Rigshospitalets KollegiumJagtvej 120 , 2200 København N\n",
      "Yak0Jw\n",
      "\n",
      "Processing Dorm\n",
      "Couldn'd find coordinates of Robert Jacobsensvej 61 , 2300 København S\n",
      "Robert Jacobsen Kollegiet (administreres af Newsec)Robert Jacobsensvej 61 , 2300 København S\n",
      "p6-QJg\n",
      "\n",
      "Processing Dorm\n",
      "Ryesgade 58-58ARyesgade 58 A, 2100 København Ø\n",
      "q-ZvoA\n",
      "\n",
      "Processing Dorm\n",
      "Sadolin KollegietLyneborggade 7 , 2300 København S\n",
      "MNN7tg\n",
      "\n",
      "Processing Dorm\n",
      "Couldn'd find coordinates of Rektorparken 12 , 2450 København SV\n",
      "SolbakkenRektorparken 12 , 2450 København SV\n",
      "0bf5_g\n",
      "\n",
      "Processing Dorm\n",
      "Couldn'd find coordinates of Stærevej 66 , 2400 København NV\n",
      "StærevejStærevej 66 , 2400 København NV\n",
      "gO3cGw\n",
      "\n",
      "Processing Dorm\n",
      "Sømoseparken (administreres af Norhjem)Sømoseparken 78 , 2750 Ballerup\n",
      "H6rzyQ\n",
      "\n",
      "Processing Dorm\n",
      "Øens KollegiumØresundsvej 94 , 2300 København S\n",
      "OHzYYQ\n",
      "\n",
      "Processing Dorm\n",
      "Øresundskollegiet (administreres af FA09)Dalslandsgade 8 , 2300 København S\n",
      "1uYxww\n",
      "\n"
     ]
    }
   ],
   "source": [
    "\n",
    "kkik = []\n",
    "\n",
    "kollegium = soup.find_all('div', class_='kollegium row')\n",
    "\n",
    "\n",
    "for container in kollegium:\n",
    "    print(\"Processing Dorm\")\n",
    "    dorm_name = container.h3.a.text\n",
    "    dorm_address = container.div.find('div', class_=\"address\").text.strip().replace(\"\\r\\n               \", \"\").replace(\"\\xa0\", \"\")\n",
    "    try:\n",
    "        dorm_picture_link = container.find('img', class_=\"kollegiumlistimage img\")['src']\n",
    "    except: \n",
    "        dorm_picture_link = \"\"\n",
    "\n",
    "    body = container.find('div', class_=\"body col-xs-12\")\n",
    "\n",
    "    description = list(map(str.strip,body.find('div', class_=\"description\").find_all(text=True, recursive=True)))\n",
    "    \n",
    "\n",
    "    rows = body.find_all(\"div\", class_= \"row\")\n",
    "    rows.pop(0)\n",
    "    rows.pop(0)\n",
    "    rows.pop(0)\n",
    "\n",
    "    rooms_export = []\n",
    "\n",
    "    for room in rows:\n",
    "        room_details = room.find_all(\"div\")\n",
    "\n",
    "        roomtype = room_details[0].get_text().strip()\n",
    "        size = room_details[1].get_text().strip()\n",
    "        size = float(re.split(r' |\\(|/|-|m',size)[0].replace(\",\",\".\"))\n",
    "        price = float(room_details[3].get_text().strip().split(\" \")[1].replace(\",\",\"\"))\n",
    "        \n",
    "        rooms_export.append({\n",
    "            \"roomType\":roomtype,\n",
    "            \"size\":size,\n",
    "            \"price\":price\n",
    "            \n",
    "        })\n",
    "\n",
    "    kkik.append({\n",
    "        \"name\":dorm_name,\n",
    "        \"address\":dorm_address,\n",
    "        \"uuid\":hash(dorm_name + dorm_address),\n",
    "        \"dormPictureLink\":\"https://www.kollegierneskontor.dk/\"+dorm_picture_link,\n",
    "        \"coordinates\":coordinatesNomantim(dorm_address),\n",
    "        \"description\":description,\n",
    "        \"rooms\":rooms_export\n",
    "    })\n",
    "\n",
    "    print(dorm_name + dorm_address)\n",
    "    print(hash(dorm_name + dorm_address))\n",
    "\n",
    "    print()\n",
    "\n",
    "\n",
    "\n",
    "\n"
   ]
  },
  {
   "cell_type": "code",
   "execution_count": 7,
   "metadata": {},
   "outputs": [],
   "source": [
    "# Add Dorm Min&Max Price\n",
    "for index, dorm in enumerate(kkik):\n",
    "    kkik[index][\"maxPrice\"] = 0\n",
    "    kkik[index][\"minPrice\"] = float('inf')\n",
    "    kkik[index][\"maxSize\"] = 0\n",
    "    kkik[index][\"minSize\"] = float('inf')\n",
    "    for room in dorm[\"rooms\"]:\n",
    "        kkik[index][\"maxPrice\"] = max(kkik[index][\"maxPrice\"], room[\"price\"])\n",
    "        kkik[index][\"minPrice\"] = min(kkik[index][\"minPrice\"], room[\"price\"])\n",
    "        kkik[index][\"maxSize\"] = max(kkik[index][\"maxSize\"], room[\"size\"])\n",
    "        kkik[index][\"minSize\"] = min(kkik[index][\"minSize\"], room[\"size\"])\n"
   ]
  },
  {
   "cell_type": "code",
   "execution_count": 8,
   "metadata": {
    "tags": []
   },
   "outputs": [],
   "source": [
    "import json\n",
    "\n",
    "with open('json_kkik.json', 'w') as f:\n",
    "    json.dump(kkik, f)\n"
   ]
  },
  {
   "cell_type": "code",
   "execution_count": 202,
   "metadata": {},
   "outputs": [
    {
     "output_type": "error",
     "ename": "ValueError",
     "evalue": "could not convert string to float: '41,5 m2'",
     "traceback": [
      "\u001b[0;31m---------------------------------------------------------------------------\u001b[0m",
      "\u001b[0;31mValueError\u001b[0m                                Traceback (most recent call last)",
      "\u001b[0;32m<ipython-input-202-f08def280119>\u001b[0m in \u001b[0;36m<module>\u001b[0;34m\u001b[0m\n\u001b[0;32m----> 1\u001b[0;31m \u001b[0mfloat\u001b[0m\u001b[0;34m(\u001b[0m\u001b[0;34m\"41,5 m2\"\u001b[0m\u001b[0;34m)\u001b[0m\u001b[0;34m\u001b[0m\u001b[0;34m\u001b[0m\u001b[0m\n\u001b[0m",
      "\u001b[0;31mValueError\u001b[0m: could not convert string to float: '41,5 m2'"
     ]
    }
   ],
   "source": []
  },
  {
   "cell_type": "code",
   "execution_count": null,
   "metadata": {},
   "outputs": [],
   "source": []
  }
 ]
}