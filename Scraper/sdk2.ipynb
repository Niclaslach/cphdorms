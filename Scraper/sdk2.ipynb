{
 "metadata": {
  "language_info": {
   "codemirror_mode": {
    "name": "ipython",
    "version": 3
   },
   "file_extension": ".py",
   "mimetype": "text/x-python",
   "name": "python",
   "nbconvert_exporter": "python",
   "pygments_lexer": "ipython3",
   "version": 3
  },
  "orig_nbformat": 2
 },
 "nbformat": 4,
 "nbformat_minor": 2,
 "cells": [
  {
   "cell_type": "code",
   "execution_count": null,
   "metadata": {},
   "outputs": [],
   "source": [
    "import requests\n",
    "from requests import get\n",
    "from bs4 import BeautifulSoup\n",
    "import pandas as pd\n",
    "import numpy as np\n",
    "\n",
    "# Stuff below is not that important (yet) its supposed to be used to find the dorm coordinates\n",
    "!pip install geopy\n",
    "import geopy \n",
    "\n",
    "from geopy.geocoders import Nominatim\n",
    "import time\n",
    "from pprint import pprint\n",
    "\n",
    "app = Nominatim(user_agent=\"tutorial\")"
   ]
  },
  {
   "cell_type": "code",
   "execution_count": null,
   "metadata": {},
   "outputs": [],
   "source": [
    "import math\n",
    "dormLinks = [] #Creating empty Array in which to store the dormLinks\n",
    "\n",
    "for i in range(math.ceil(dormCount/10)):\n",
    "    print(str((i*10+10)/dormCount)+'%')\n",
    "    url = \"https://mit.s.dk/studiebolig/search-result/?q=&start=\"+str(i*10)\n",
    "    results = requests.get(url)\n",
    "    #print(results)\n",
    "    soup = BeautifulSoup(results.text, \"html.parser\")\n",
    "    dorms = soup.find('table', {'id':'srtable'}).find_all('tr',class_='table-link')\n",
    "    \n",
    "    for dorm in dorms:\n",
    "        dormLinks.append(dorm.a['href'])\n",
    "\n",
    "#Now the Links to all dorms are stored in dormLinks"
   ]
  },
  {
   "cell_type": "code",
   "execution_count": null,
   "metadata": {},
   "outputs": [],
   "source": [
    "#Put your entire \"Scrapping\" Logic inside this block \n",
    "\n",
    "sdk = []\n",
    "\n",
    "#FullLink\n",
    "for dormLink in dormLinks:\n",
    "    print('https://mit.s.dk'+dormLink)\n",
    "    #Request\n",
    "    #The Soup\n",
    "    #Look at KKIK how to insert into the data structure below\n",
    "    sdk.append({\n",
    "        \"name\":dorm_name,\n",
    "        \"address\":dorm_address,\n",
    "        \"coordinates\":coordinates(dorm_address),\n",
    "        \"rooms\":rooms_export\n",
    "    })\n",
    "\n"
   ]
  },
  {
   "cell_type": "code",
   "execution_count": null,
   "metadata": {},
   "outputs": [],
   "source": [
    "import json\n",
    "\n",
    "with open('json_sdk.json', 'w') as f:\n",
    "    json.dump(sdk, f)"
   ]
  }
 ]
}