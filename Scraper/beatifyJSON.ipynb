{
 "metadata": {
  "language_info": {
   "codemirror_mode": {
    "name": "ipython",
    "version": 3
   },
   "file_extension": ".py",
   "mimetype": "text/x-python",
   "name": "python",
   "nbconvert_exporter": "python",
   "pygments_lexer": "ipython3",
   "version": "3.8.2"
  },
  "orig_nbformat": 2,
  "kernelspec": {
   "name": "python3",
   "display_name": "Python 3.8.2  ('Scrapping': venv)",
   "metadata": {
    "interpreter": {
     "hash": "3a6dab55f78a84f167aa50ff7b8a2964f29afb752123b75df25f650b62a72210"
    }
   }
  }
 },
 "nbformat": 4,
 "nbformat_minor": 2,
 "cells": [
  {
   "cell_type": "code",
   "execution_count": 8,
   "metadata": {},
   "outputs": [],
   "source": [
    "import json \n",
    "\n",
    "with open('json_kkik.json') as json_file:\n",
    "    kkik = json.load(json_file)\n",
    "\n",
    "\n",
    "with open('UNI-locations.json') as json_file:\n",
    "    universities = json.load(json_file)"
   ]
  },
  {
   "cell_type": "code",
   "execution_count": 7,
   "metadata": {
    "tags": []
   },
   "outputs": [
    {
     "output_type": "stream",
     "name": "stdout",
     "text": [
      "Albertslund Ungdomsboliger\n"
     ]
    }
   ],
   "source": [
    "print(kkik[0][\"name\"])\n",
    "\n",
    "for dorm in [kkik[0]]:\n",
    "    distance = {}\n",
    "\n",
    "    for uni in universities:\n",
    "        #CalcDistance\n",
    "\n",
    "\n",
    "\n",
    "    dorm[\"distance\"] = distance"
   ]
  },
  {
   "cell_type": "code",
   "execution_count": null,
   "metadata": {},
   "outputs": [],
   "source": [
    "import geopy.distance\n",
    "\n",
    "coords_1 = (52.2296756, 21.0122287)\n",
    "coords_2 = (52.406374, 16.9251681)\n",
    "\n",
    "print geopy.distance.vincenty(coords_1, coords_2).km"
   ]
  }
 ]
}