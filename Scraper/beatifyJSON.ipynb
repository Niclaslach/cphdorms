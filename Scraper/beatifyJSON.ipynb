{
 "metadata": {
  "language_info": {
   "codemirror_mode": {
    "name": "ipython",
    "version": 3
   },
   "file_extension": ".py",
   "mimetype": "text/x-python",
   "name": "python",
   "nbconvert_exporter": "python",
   "pygments_lexer": "ipython3",
   "version": "3.8.2"
  },
  "orig_nbformat": 2,
  "kernelspec": {
   "name": "python3",
   "display_name": "Python 3.8.2  ('Scrapping': venv)",
   "metadata": {
    "interpreter": {
     "hash": "3a6dab55f78a84f167aa50ff7b8a2964f29afb752123b75df25f650b62a72210"
    }
   }
  }
 },
 "nbformat": 4,
 "nbformat_minor": 2,
 "cells": [
  {
   "cell_type": "code",
   "execution_count": 28,
   "metadata": {},
   "outputs": [],
   "source": [
    "import json \n",
    "\n",
    "with open('json_kkik.json') as json_file:\n",
    "    kkik = json.load(json_file)\n",
    "\n",
    "\n",
    "with open('UNI-locations.json') as json_file:\n",
    "    universities = json.load(json_file)"
   ]
  },
  {
   "cell_type": "code",
   "execution_count": 29,
   "metadata": {
    "tags": []
   },
   "outputs": [
    {
     "output_type": "stream",
     "name": "stdout",
     "text": [
      "Albertslund Ungdomsboliger\n(12.3591777, 55.6753206)\n(12.523524998922962, 55.678457564158094)\n18.18425539875446\n"
     ]
    }
   ],
   "source": [
    "from geopy import distance\n",
    "print(kkik[0][\"name\"])\n",
    "\n",
    "dorm = kkik[0]\n",
    "dorm_coordinates = (dorm[\"coordinates\"][\"longitude\"],dorm[\"coordinates\"][\"latitude\"])\n",
    "print(dorm_coordinates)\n",
    "\n",
    "campus = universities[\"CBS\"][\"PH\"]\n",
    "campus_coordinates = (campus[\"longitude\"], campus[\"latitude\"])\n",
    "print(campus_coordinates)\n",
    "\n",
    "distance = distance.distance(dorm_coordinates, campus_coordinates).km\n",
    "\n",
    "\n",
    "\n",
    "print(distance)\n",
    "\n",
    "\n"
   ]
  },
  {
   "cell_type": "code",
   "execution_count": null,
   "metadata": {},
   "outputs": [],
   "source": [
    "for dorm in kkik:\n",
    "    distance = {}\n",
    "\n",
    "    dorm_coordinates = (dorm[\"coordinates\"],dorm[\"latitude\"])\n",
    "\n",
    "    for uni in universities:\n",
    "        #CalcDistance\n",
    "        for campus in uni:\n",
    "            campus_coordinates = (campus[longitude], campus[latitude])\n",
    "            distance = distance.distance(campus_coordinates, dorm_coordinates).km\n",
    "\n",
    "\n",
    "    dorm[\"distance\"] = distance"
   ]
  },
  {
   "cell_type": "code",
   "execution_count": 17,
   "metadata": {},
   "outputs": [
    {
     "output_type": "stream",
     "name": "stdout",
     "text": [
      "19959.67926735382\n"
     ]
    }
   ],
   "source": [
    "#!pip install geopy\n",
    "from geopy import distance\n",
    "dorm_coordinates = (-41.32, 174.81)\n",
    "uni_coordinates = (40.96, -5.50)\n",
    "print(distance.distance(dorm_coordinates, uni_coordinates).km)"
   ]
  },
  {
   "cell_type": "code",
   "execution_count": null,
   "metadata": {},
   "outputs": [],
   "source": [
    "\n",
    "hasOwnBathroom = roomdescription.contains(\"own bath\")\n",
    "\n",
    "roomType = {\n",
    "    singleRoom = True/False,\n",
    "    hasKitchen\n",
    "    hastKitchenette\n",
    "    hasOwnBathroom = hasOwnBathroom\n",
    "}"
   ]
  }
 ]
}