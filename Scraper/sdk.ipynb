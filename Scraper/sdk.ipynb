{
 "metadata": {
  "language_info": {
   "codemirror_mode": {
    "name": "ipython",
    "version": 3
   },
   "file_extension": ".py",
   "mimetype": "text/x-python",
   "name": "python",
   "nbconvert_exporter": "python",
   "pygments_lexer": "ipython3",
   "version": "3.8.2-final"
  },
  "orig_nbformat": 2,
  "kernelspec": {
   "name": "python3",
   "display_name": "Python 3.8.2 64-bit ('venvMaps': venv)",
   "metadata": {
    "interpreter": {
     "hash": "077fe6fd6570d11d355a74f5083572f354523aaff3dcd4768a7c3f22f558bbad"
    }
   }
  }
 },
 "nbformat": 4,
 "nbformat_minor": 2,
 "cells": [
  {
   "cell_type": "code",
   "execution_count": 1,
   "metadata": {},
   "outputs": [],
   "source": [
    "import requests\n",
    "from requests import get\n",
    "from bs4 import BeautifulSoup\n",
    "import pandas as pd\n",
    "import numpy as np"
   ]
  },
  {
   "cell_type": "code",
   "execution_count": 2,
   "metadata": {},
   "outputs": [
    {
     "output_type": "stream",
     "name": "stdout",
     "text": [
      "Collecting geopy\n",
      "  Downloading geopy-2.1.0-py3-none-any.whl (112 kB)\n",
      "\u001b[K     |████████████████████████████████| 112 kB 9.1 MB/s \n",
      "\u001b[?25hCollecting geographiclib<2,>=1.49\n",
      "  Downloading geographiclib-1.50-py3-none-any.whl (38 kB)\n",
      "Installing collected packages: geographiclib, geopy\n",
      "Successfully installed geographiclib-1.50 geopy-2.1.0\n"
     ]
    }
   ],
   "source": [
    "!pip install geopy\n",
    "import geopy \n",
    "\n",
    "from geopy.geocoders import Nominatim\n",
    "import time\n",
    "from pprint import pprint\n",
    "\n",
    "app = Nominatim(user_agent=\"tutorial\")"
   ]
  },
  {
   "cell_type": "code",
   "execution_count": 4,
   "metadata": {},
   "outputs": [
    {
     "output_type": "stream",
     "name": "stdout",
     "text": [
      "<Response [200]>\n"
     ]
    }
   ],
   "source": [
    "url = \"https://mit.s.dk/studiebolig/building/4/?pks__in=3021,5383,13777,17757,11527,6359,7955,8989,19253,19757,18815,10667\"\n",
    "results = requests.get(url)\n",
    "print(results)"
   ]
  },
  {
   "cell_type": "code",
   "execution_count": 11,
   "metadata": {
    "tags": []
   },
   "outputs": [
    {
     "output_type": "stream",
     "name": "stdout",
     "text": [
      "Blegdammen\n"
     ]
    }
   ],
   "source": [
    "soup = BeautifulSoup(results.text, \"html.parser\")\n",
    "\n",
    "\n",
    "dorm_name = soup.find(\"h1\", class_='title d-md-inline-block').text\n",
    "print(dorm_name)"
   ]
  },
  {
   "cell_type": "code",
   "execution_count": 29,
   "metadata": {},
   "outputs": [
    {
     "output_type": "stream",
     "name": "stdout",
     "text": [
      "['RIU-Roskilde', 'Jernbanegade 4', ', 4.', '', '1608 København V', 'phone: 46321000', 'email: info@riu-roskilde.dk']\n"
     ]
    }
   ],
   "source": [
    "dorm_info = soup.find('dl', class_='col-md-4 col-lg-3')\n",
    "dorm_info = dorm_info.find_all('dd')\n",
    "\n",
    "dorm_address_AdmitionComittee = dorm_info[-1]\n",
    "dorm_address_AdmitionComittee = dorm_address_AdmitionComittee.text.strip().split('\\n')\n",
    "\n",
    "i = 0\n",
    "for addressLine in dorm_address_AdmitionComittee:\n",
    "    dorm_address_AdmitionComittee[i] = addressLine.strip()\n",
    "    i += 1\n",
    "print(dorm_address_AdmitionComittee)"
   ]
  },
  {
   "cell_type": "code",
   "execution_count": 38,
   "metadata": {},
   "outputs": [
    {
     "output_type": "stream",
     "name": "stdout",
     "text": [
      "26-26 m2, 1836-2392 kr.\n\nBlegdammen 18B 0, 4000 Roskilde\n\n\n"
     ]
    }
   ],
   "source": [
    "dorm_rooms = soup.find('div', {'id':'buildingGroups'} )\n",
    "dorm_size_price = dorm_rooms.find('span',class_ = 'text-muted')\n",
    "print(dorm_price.text)\n",
    "\n",
    "\n",
    "#TODO: adjust to multibedroom types\n",
    "\n",
    "dorm_address = dorm_rooms.find('div', class_ = 'collapse').find('td', class_ = 'd-block d-md-table-cell').text \n",
    "\n",
    "print(dorm_address)"
   ]
  },
  {
   "cell_type": "code",
   "execution_count": 47,
   "metadata": {},
   "outputs": [
    {
     "output_type": "stream",
     "name": "stdout",
     "text": [
      "['/studiebolig/building/4/?pks__in=3021,5383,13777,17757,11527,6359,7955,8989,19253,19757,18815,10667', '/studiebolig/building/5/?pks__in=2827,3211,3499,4345,4483,4609,12639,13067,13181,16777,17855,11249,11581,14797,15017,15857,16273,6793,7337,7991,8209,8417,8509,8563,9203,9287,18935,19069,19203,19477,20679,20935,12337,13051,13123,7907,25393,9247,16737,25387,20787,7095,11455', '/studiebolig/building/6/?pks__in=2501,3467,4775,5147,6181,12385,14273,17013,18219,10729,11147,11991,12157,12231,12275,14307,15177,15261,8395,8809,19087,19595,12739,13711,14151,6333,17279,12793,6925,10063,11169,8917', '/studiebolig/building/7/?pks__in=4071,14067,11817,6753,6817,7161,20395,4137', '/studiebolig/building/9/?pks__in=11599,14665,5799,11157,9651,16961,5225,19233,3589,3679,19391,9703,10743,16515,2675,12671,19923,4665', '/studiebolig/building/10/?pks__in=3513,16775,15747,20423,2573', '/studiebolig/building/12/?pks__in=17677,9061,26158,28708,28800,251695,26764,22835,23013,23275,23683,258424,265857,10921,25219,24227,28672,23103,24183,25703', '/studiebolig/building/14/?pks__in=2267,2687,2699,2869,3475,3991,4563,5593,12377,12587,13115,13855,17033,11019,11393,11679,11797,12127,14629,14647,14791,15301,15349,15925,16205,6713,7159,7687,7903,8249,8531,9159,19601,19619,19869,19911,20075,20261,21413,21695,15059,19709,20219,25109,24181,25093,5805,25107,19629,20349', '/studiebolig/building/15/?pks__in=2505,2599,3135,4141,4855,5743,5859,5879,5989,6259,12459,13041,13515,16489,16543,17497,18229,10531,10937,11061,11529,11665,11857,11967,14897,15165,16151,6669,6673,7509,7541,7765,7901,10177,18785,19655,20309,21245,5925,11027,16897,9973,5177,12851,19547,6601,5097,7117,8873,19557,18925,9459,5121,15441,10707,13859', '/studiebolig/building/16/?pks__in=27376,22985,23113,25029,18065']\n"
     ]
    }
   ],
   "source": [
    "#Get All Dorm Links\n",
    "url = \"https://mit.s.dk/studiebolig/\"\n",
    "results = requests.get(url)\n",
    "#print(results)\n",
    "\n",
    "soup = BeautifulSoup(results.text, \"html.parser\")\n",
    "\n",
    "dorms = soup.find('table', {'id':'srtable'}).find_all('tr',class_='table-link')\n",
    "\n",
    "dormLinks = []\n",
    "\n",
    "for dorm in dorms:\n",
    "    dormLinks.append(dorm.a['href'])\n",
    "\n",
    "print(dormLinks)"
   ]
  },
  {
   "cell_type": "code",
   "execution_count": 52,
   "metadata": {},
   "outputs": [
    {
     "output_type": "stream",
     "name": "stdout",
     "text": [
      "227\n"
     ]
    }
   ],
   "source": [
    "#Get All Dorm Links\n",
    "url = \"https://mit.s.dk/studiebolig/\"\n",
    "results = requests.get(url)\n",
    "#print(results)\n",
    "\n",
    "soup = BeautifulSoup(results.text, \"html.parser\")\n",
    "\n",
    "dormCount = int(soup.find('h1',class_='h2').span.text)\n",
    "\n",
    "print(dormCount)"
   ]
  },
  {
   "cell_type": "code",
   "execution_count": 69,
   "metadata": {},
   "outputs": [
    {
     "output_type": "stream",
     "name": "stdout",
     "text": [
      "0.04405286343612335%\n",
      "0.0881057268722467%\n",
      "0.13215859030837004%\n",
      "0.1762114537444934%\n",
      "0.22026431718061673%\n",
      "0.2643171806167401%\n",
      "0.30837004405286345%\n",
      "0.3524229074889868%\n",
      "0.3964757709251101%\n",
      "0.44052863436123346%\n",
      "0.4845814977973568%\n",
      "0.5286343612334802%\n",
      "0.5726872246696035%\n",
      "0.6167400881057269%\n",
      "0.6607929515418502%\n",
      "0.7048458149779736%\n",
      "0.748898678414097%\n",
      "0.7929515418502202%\n",
      "0.8370044052863436%\n",
      "0.8810572687224669%\n",
      "0.9251101321585903%\n",
      "0.9691629955947136%\n",
      "1.013215859030837%\n"
     ]
    }
   ],
   "source": [
    "import math\n",
    "\n",
    "dormLinks = []\n",
    "\n",
    "for i in range(math.ceil(dormCount/10)):\n",
    "    print(str((i*10+10)/dormCount)+'%')\n",
    "    url = \"https://mit.s.dk/studiebolig/search-result/?q=&start=\"+str(i*10)\n",
    "    results = requests.get(url)\n",
    "    #print(results)\n",
    "\n",
    "    soup = BeautifulSoup(results.text, \"html.parser\")\n",
    "\n",
    "    dorms = soup.find('table', {'id':'srtable'}).find_all('tr',class_='table-link')\n",
    "\n",
    "    \n",
    "\n",
    "    for dorm in dorms:\n",
    "        dormLinks.append(dorm.a['href'])"
   ]
  },
  {
   "cell_type": "code",
   "execution_count": 67,
   "metadata": {
    "tags": []
   },
   "outputs": [
    {
     "output_type": "stream",
     "name": "stdout",
     "text": [
      "227\n"
     ]
    }
   ],
   "source": []
  },
  {
   "cell_type": "code",
   "execution_count": null,
   "metadata": {},
   "outputs": [],
   "source": []
  }
 ]
}