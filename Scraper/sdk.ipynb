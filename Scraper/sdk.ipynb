{
 "metadata": {
  "language_info": {
   "codemirror_mode": {
    "name": "ipython",
    "version": 3
   },
   "file_extension": ".py",
   "mimetype": "text/x-python",
   "name": "python",
   "nbconvert_exporter": "python",
   "pygments_lexer": "ipython3",
   "version": "3.8.2-final"
  },
  "orig_nbformat": 2,
  "kernelspec": {
   "name": "python3",
   "display_name": "Python 3.8.2 64-bit ('venvMaps': venv)",
   "metadata": {
    "interpreter": {
     "hash": "077fe6fd6570d11d355a74f5083572f354523aaff3dcd4768a7c3f22f558bbad"
    }
   }
  }
 },
 "nbformat": 4,
 "nbformat_minor": 2,
 "cells": [
  {
   "cell_type": "code",
   "execution_count": 1,
   "metadata": {},
   "outputs": [],
   "source": [
    "import requests\n",
    "from requests import get\n",
    "from bs4 import BeautifulSoup\n",
    "import pandas as pd\n",
    "import numpy as np"
   ]
  },
  {
   "cell_type": "code",
   "execution_count": 2,
   "metadata": {},
   "outputs": [
    {
     "output_type": "stream",
     "name": "stdout",
     "text": [
      "Collecting geopy\n",
      "  Downloading geopy-2.1.0-py3-none-any.whl (112 kB)\n",
      "\u001b[K     |████████████████████████████████| 112 kB 9.1 MB/s \n",
      "\u001b[?25hCollecting geographiclib<2,>=1.49\n",
      "  Downloading geographiclib-1.50-py3-none-any.whl (38 kB)\n",
      "Installing collected packages: geographiclib, geopy\n",
      "Successfully installed geographiclib-1.50 geopy-2.1.0\n"
     ]
    }
   ],
   "source": [
    "!pip install geopy\n",
    "import geopy \n",
    "\n",
    "from geopy.geocoders import Nominatim\n",
    "import time\n",
    "from pprint import pprint\n",
    "\n",
    "app = Nominatim(user_agent=\"tutorial\")"
   ]
  },
  {
   "cell_type": "code",
   "execution_count": 4,
   "metadata": {},
   "outputs": [
    {
     "output_type": "stream",
     "name": "stdout",
     "text": [
      "<Response [200]>\n"
     ]
    }
   ],
   "source": [
    "url = \"https://mit.s.dk/studiebolig/building/4/?pks__in=3021,5383,13777,17757,11527,6359,7955,8989,19253,19757,18815,10667\"\n",
    "results = requests.get(url)\n",
    "print(results)"
   ]
  },
  {
   "cell_type": "code",
   "execution_count": 11,
   "metadata": {
    "tags": []
   },
   "outputs": [
    {
     "output_type": "stream",
     "name": "stdout",
     "text": [
      "Blegdammen\n"
     ]
    }
   ],
   "source": [
    "soup = BeautifulSoup(results.text, \"html.parser\") #Crating Soup (Soup = Stuff to search)\n",
    "\n",
    "\n",
    "dorm_name = soup.find(\"h1\", class_='title d-md-inline-block').text #Searched dorm name by finding the html attribute around it (h1 tag with class title d-md...)\n",
    "print(dorm_name)"
   ]
  },
  {
   "cell_type": "code",
   "execution_count": 29,
   "metadata": {},
   "outputs": [
    {
     "output_type": "stream",
     "name": "stdout",
     "text": [
      "['RIU-Roskilde', 'Jernbanegade 4', ', 4.', '', '1608 København V', 'phone: 46321000', 'email: info@riu-roskilde.dk']\n"
     ]
    }
   ],
   "source": [
    "dorm_info = soup.find('dl', class_='col-md-4 col-lg-3')\n",
    "dorm_info = dorm_info.find_all('dd')\n",
    "\n",
    "dorm_address_AdmitionComittee = dorm_info[-1] #Taking last element of the dorm info (the interesting part)\n",
    "dorm_address_AdmitionComittee = dorm_address_AdmitionComittee.text.strip().split('\\n')\n",
    "\n",
    "i = 0\n",
    "for addressLine in dorm_address_AdmitionComittee: #iterating (looping) through the address lines \n",
    "    dorm_address_AdmitionComittee[i] = addressLine.strip() #strip prettifies strings by removing leading / trailing spaces / line breakes\n",
    "    i += 1\n",
    "print(dorm_address_AdmitionComittee)"
   ]
  },
  {
   "cell_type": "code",
   "execution_count": 38,
   "metadata": {},
   "outputs": [
    {
     "output_type": "stream",
     "name": "stdout",
     "text": [
      "26-26 m2, 1836-2392 kr.\n\nBlegdammen 18B 0, 4000 Roskilde\n\n\n"
     ]
    }
   ],
   "source": [
    "dorm_rooms = soup.find('div', {'id':'buildingGroups'} )\n",
    "dorm_size_price = dorm_rooms.find('span',class_ = 'text-muted')\n",
    "print(dorm_price.text)\n",
    "\n",
    "\n",
    "#TODO: adjust to multibedroom types\n",
    "\n",
    "dorm_address = dorm_rooms.find('div', class_ = 'collapse').find('td', class_ = 'd-block d-md-table-cell').text #The result of a 'soup' is another 'soup' thats why we can continue searching. and chain the find commands (If i remeber correctly there is a nicer way to do it - However, it works :-) )\n",
    "\n",
    "print(dorm_address)"
   ]
  },
  {
   "cell_type": "code",
   "execution_count": 52,
   "metadata": {},
   "outputs": [
    {
     "output_type": "stream",
     "name": "stdout",
     "text": [
      "227\n"
     ]
    }
   ],
   "source": [
    "#Get All Dorm Links\n",
    "url = \"https://mit.s.dk/studiebolig/\"\n",
    "results = requests.get(url)\n",
    "#print(results)\n",
    "\n",
    "soup = BeautifulSoup(results.text, \"html.parser\")\n",
    "\n",
    "dormCount = int(soup.find('h1',class_='h2').span.text)\n",
    "\n",
    "print(dormCount)"
   ]
  },
  {
   "cell_type": "code",
   "execution_count": 69,
   "metadata": {},
   "outputs": [
    {
     "output_type": "stream",
     "name": "stdout",
     "text": [
      "0.04405286343612335%\n",
      "0.0881057268722467%\n",
      "0.13215859030837004%\n",
      "0.1762114537444934%\n",
      "0.22026431718061673%\n",
      "0.2643171806167401%\n",
      "0.30837004405286345%\n",
      "0.3524229074889868%\n",
      "0.3964757709251101%\n",
      "0.44052863436123346%\n",
      "0.4845814977973568%\n",
      "0.5286343612334802%\n",
      "0.5726872246696035%\n",
      "0.6167400881057269%\n",
      "0.6607929515418502%\n",
      "0.7048458149779736%\n",
      "0.748898678414097%\n",
      "0.7929515418502202%\n",
      "0.8370044052863436%\n",
      "0.8810572687224669%\n",
      "0.9251101321585903%\n",
      "0.9691629955947136%\n",
      "1.013215859030837%\n"
     ]
    }
   ],
   "source": [
    "import math\n",
    "\n",
    "dormLinks = []\n",
    "\n",
    "for i in range(math.ceil(dormCount/10)):\n",
    "    print(str((i*10+10)/dormCount)+'%')\n",
    "    url = \"https://mit.s.dk/studiebolig/search-result/?q=&start=\"+str(i*10)\n",
    "    results = requests.get(url)\n",
    "    #print(results)\n",
    "\n",
    "    soup = BeautifulSoup(results.text, \"html.parser\")\n",
    "\n",
    "    dorms = soup.find('table', {'id':'srtable'}).find_all('tr',class_='table-link')\n",
    "\n",
    "    \n",
    "\n",
    "    for dorm in dorms:\n",
    "        dormLinks.append(dorm.a['href'])"
   ]
  },
  {
   "cell_type": "code",
   "execution_count": 70,
   "metadata": {
    "tags": []
   },
   "outputs": [
    {
     "output_type": "stream",
     "name": "stdout",
     "text": [
      "/studiebolig/building/4/?pks__in=3021,5383,13777,17757,11527,6359,7955,8989,19253,19757,18815,10667\n"
     ]
    }
   ],
   "source": [
    "kkik = []\n",
    "\n",
    "#FullLink\n",
    "for dormLink in dormLinks:\n",
    "    print('https://mit.s.dk'+dormLink)\n",
    "    #Request\n",
    "    #The Soup\n",
    "    #Look at KKIK how to insert into the data structure below\n",
    "    kkik.append({\n",
    "        \"name\":dorm_name,\n",
    "        \"address\":dorm_address,\n",
    "        \"coordinates\":coordinates(dorm_address),\n",
    "        \"rooms\":rooms_export\n",
    "    })\n",
    "\n"
   ]
  },
  {
   "cell_type": "code",
   "execution_count": null,
   "metadata": {},
   "outputs": [],
   "source": []
  }
 ]
}